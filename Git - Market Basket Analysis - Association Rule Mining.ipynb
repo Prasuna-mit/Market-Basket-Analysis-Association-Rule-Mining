{
 "cells": [
  {
   "cell_type": "code",
   "execution_count": 1,
   "metadata": {},
   "outputs": [],
   "source": [
    "#importing packages\n",
    "import pandas as pd\n",
    "from itertools import combinations"
   ]
  },
  {
   "cell_type": "code",
   "execution_count": 13,
   "metadata": {},
   "outputs": [],
   "source": [
    "#storing text to a variable\n",
    "data = open('HW3_data.txt','r')"
   ]
  },
  {
   "cell_type": "code",
   "execution_count": 32,
   "metadata": {},
   "outputs": [
    {
     "data": {
      "text/plain": [
       "_io.TextIOWrapper"
      ]
     },
     "execution_count": 32,
     "metadata": {},
     "output_type": "execute_result"
    }
   ],
   "source": [
    "type(data)"
   ]
  },
  {
   "cell_type": "code",
   "execution_count": 38,
   "metadata": {
    "scrolled": true
   },
   "outputs": [],
   "source": [
    "#data.read() #display data"
   ]
  },
  {
   "cell_type": "code",
   "execution_count": 54,
   "metadata": {},
   "outputs": [],
   "source": [
    "#print(data1)"
   ]
  },
  {
   "cell_type": "code",
   "execution_count": 15,
   "metadata": {},
   "outputs": [
    {
     "name": "stdout",
     "output_type": "stream",
     "text": [
      "31101\n"
     ]
    }
   ],
   "source": [
    "#counting number of lines\n",
    "file = open(\"HW3_data.txt\",\"r\")\n",
    "number_of_lines = 0\n",
    "#i=0\n",
    "for line in file:\n",
    "    line = line.strip('\\n')\n",
    "    number_of_lines += 1\n",
    "print(number_of_lines)  "
   ]
  },
  {
   "cell_type": "code",
   "execution_count": 17,
   "metadata": {},
   "outputs": [
    {
     "data": {
      "text/plain": [
       "_io.TextIOWrapper"
      ]
     },
     "execution_count": 17,
     "metadata": {},
     "output_type": "execute_result"
    }
   ],
   "source": [
    "type(file)"
   ]
  },
  {
   "cell_type": "code",
   "execution_count": null,
   "metadata": {},
   "outputs": [],
   "source": []
  },
  {
   "cell_type": "markdown",
   "metadata": {},
   "source": [
    "# List of Lists"
   ]
  },
  {
   "cell_type": "code",
   "execution_count": 33,
   "metadata": {},
   "outputs": [
    {
     "name": "stdout",
     "output_type": "stream",
     "text": [
      "31101\n"
     ]
    }
   ],
   "source": [
    "#converting list of all elements into list of lists\n",
    "lists = []\n",
    "#print(file)\n",
    "#crimefile = open(fileName, 'r')\n",
    "number_of_lines = 0\n",
    "file = open(\"HW3_data.txt\",\"r\")\n",
    "for line in file:\n",
    "    #row.append([line])\n",
    "    stripped_line = line.strip('\\n')\n",
    "    line_list = stripped_line.split()\n",
    "    #print(line)\n",
    "    lists.append(line_list)\n",
    "    #for i in line.split(\" \"):\n",
    "    \n",
    "    number_of_lines += 1\n",
    "        #row.append(i)\n",
    "print(number_of_lines)\n",
    "file.close()"
   ]
  },
  {
   "cell_type": "code",
   "execution_count": 42,
   "metadata": {},
   "outputs": [
    {
     "name": "stdout",
     "output_type": "stream",
     "text": [
      "Display of first 5 transactions\n"
     ]
    },
    {
     "data": {
      "text/plain": [
       "[['FRO11987', 'ELE17451', 'ELE89019', 'SNA90258', 'GRO99222'],\n",
       " ['GRO99222',\n",
       "  'GRO12298',\n",
       "  'FRO12685',\n",
       "  'ELE91550',\n",
       "  'SNA11465',\n",
       "  'ELE26917',\n",
       "  'ELE52966',\n",
       "  'FRO90334',\n",
       "  'SNA30755',\n",
       "  'ELE17451',\n",
       "  'FRO84225',\n",
       "  'SNA80192'],\n",
       " ['ELE17451', 'GRO73461', 'DAI22896', 'SNA99873', 'FRO86643'],\n",
       " ['ELE17451', 'ELE37798', 'FRO86643', 'GRO56989', 'ELE23393', 'SNA11465'],\n",
       " ['ELE17451',\n",
       "  'SNA69641',\n",
       "  'FRO86643',\n",
       "  'FRO78087',\n",
       "  'SNA11465',\n",
       "  'GRO39357',\n",
       "  'ELE28573',\n",
       "  'ELE11375',\n",
       "  'DAI54444'],\n",
       " ['ELE17451',\n",
       "  'GRO73461',\n",
       "  'DAI22896',\n",
       "  'SNA99873',\n",
       "  'FRO18919',\n",
       "  'DAI50921',\n",
       "  'SNA80192',\n",
       "  'GRO75578'],\n",
       " ['ELE17451',\n",
       "  'ELE59935',\n",
       "  'FRO18919',\n",
       "  'ELE23393',\n",
       "  'SNA80192',\n",
       "  'SNA85662',\n",
       "  'SNA91554',\n",
       "  'DAI22177'],\n",
       " ['ELE17451',\n",
       "  'SNA69641',\n",
       "  'FRO18919',\n",
       "  'SNA90258',\n",
       "  'ELE28573',\n",
       "  'ELE11375',\n",
       "  'DAI14125',\n",
       "  'FRO78087'],\n",
       " ['ELE17451',\n",
       "  'GRO73461',\n",
       "  'DAI22896',\n",
       "  'SNA80192',\n",
       "  'SNA85662',\n",
       "  'SNA90258',\n",
       "  'DAI46755',\n",
       "  'FRO81176',\n",
       "  'ELE66810',\n",
       "  'DAI49199',\n",
       "  'DAI91535',\n",
       "  'GRO94758',\n",
       "  'ELE94711',\n",
       "  'DAI22177'],\n",
       " ['ELE17451',\n",
       "  'SNA69641',\n",
       "  'DAI91535',\n",
       "  'GRO94758',\n",
       "  'GRO99222',\n",
       "  'FRO76833',\n",
       "  'FRO81176',\n",
       "  'SNA80192',\n",
       "  'DAI54690',\n",
       "  'ELE37798',\n",
       "  'GRO56989']]"
      ]
     },
     "execution_count": 42,
     "metadata": {},
     "output_type": "execute_result"
    }
   ],
   "source": [
    "#List of items purchased per transaction\n",
    "print(\"Display of first 5 transactions\")\n",
    "lists[0:10]"
   ]
  },
  {
   "cell_type": "code",
   "execution_count": 30,
   "metadata": {},
   "outputs": [
    {
     "data": {
      "text/plain": [
       "'ELE89019'"
      ]
     },
     "execution_count": 30,
     "metadata": {},
     "output_type": "execute_result"
    }
   ],
   "source": [
    "lists[0][2]"
   ]
  },
  {
   "cell_type": "markdown",
   "metadata": {},
   "source": [
    "# Frequent Set generation"
   ]
  },
  {
   "cell_type": "code",
   "execution_count": 39,
   "metadata": {
    "scrolled": false
   },
   "outputs": [
    {
     "name": "stdout",
     "output_type": "stream",
     "text": [
      "12592\n"
     ]
    }
   ],
   "source": [
    "#collecting unique items\n",
    "unique = set(x for l in lists for x in l)\n",
    "#print(type(unique))\n",
    "#print(len(unique))\n",
    "\n",
    "# converting set to list of unique items\n",
    "unique1 = list(unique)\n",
    "print(len(unique1))"
   ]
  },
  {
   "cell_type": "code",
   "execution_count": 210,
   "metadata": {},
   "outputs": [
    {
     "name": "stdout",
     "output_type": "stream",
     "text": [
      "number of unique items:\n",
      "12592\n"
     ]
    }
   ],
   "source": [
    "print(\"number of unique items:\")\n",
    "print(len(unique1))"
   ]
  },
  {
   "cell_type": "code",
   "execution_count": 206,
   "metadata": {},
   "outputs": [],
   "source": [
    "#print(unique1)"
   ]
  },
  {
   "cell_type": "markdown",
   "metadata": {},
   "source": [
    "# 1-frequent item set generation"
   ]
  },
  {
   "cell_type": "code",
   "execution_count": 41,
   "metadata": {},
   "outputs": [
    {
     "name": "stdout",
     "output_type": "stream",
     "text": [
      "688\n"
     ]
    }
   ],
   "source": [
    "#b = 0 \n",
    "minsup = 0.3/100\n",
    "size = len(lists)\n",
    "f1 = []\n",
    "for i in range(0,len(unique1)):\n",
    "    count = 0\n",
    "    for r in range(0,len(lists)):\n",
    "        for c in range(0,len(lists[r])):\n",
    "            if unique1[i] == lists[r][c]:\n",
    "                count = count + 1\n",
    "                break\n",
    "    if count/size >= minsup:\n",
    "        f1.append(unique1[i])\n",
    "            \n",
    "#print(b)\n",
    "print(len(f1))\n",
    "#print(f1)"
   ]
  },
  {
   "cell_type": "code",
   "execution_count": 43,
   "metadata": {
    "scrolled": false
   },
   "outputs": [
    {
     "name": "stdout",
     "output_type": "stream",
     "text": [
      "number of 1-frequent itemsets\n",
      "688\n",
      "list of 1-frequent itemsets:\n"
     ]
    }
   ],
   "source": [
    "print(\"number of 1-frequent itemsets\")\n",
    "print(len(f1))\n",
    "print(\"list of 1-frequent itemsets:\")\n",
    "#print(f1)"
   ]
  },
  {
   "cell_type": "code",
   "execution_count": 47,
   "metadata": {},
   "outputs": [
    {
     "name": "stdout",
     "output_type": "stream",
     "text": [
      "['DAI71083', 'GRO67739', 'ELE38289', 'GRO15017', 'ELE27303', 'DAI23411', 'FRO41939', 'GRO59710', 'ELE16299']\n"
     ]
    }
   ],
   "source": [
    "#Display 10 unique frequent items\n",
    "print(f1[1:10])"
   ]
  },
  {
   "cell_type": "markdown",
   "metadata": {},
   "source": [
    "# Combinations for 2-frequent itemset"
   ]
  },
  {
   "cell_type": "code",
   "execution_count": 48,
   "metadata": {},
   "outputs": [],
   "source": [
    "#Import itertools package\n",
    "f2_combi=[]\n",
    "#Getting all combination of a particular length.\n",
    "combi_2 = combinations(f1, 2)\n",
    "for c in list(combi_2):\n",
    "    #print(c)\n",
    "    #print(type(c))\n",
    "    f2_combi.append(list(c))\n"
   ]
  },
  {
   "cell_type": "code",
   "execution_count": 54,
   "metadata": {},
   "outputs": [
    {
     "name": "stdout",
     "output_type": "stream",
     "text": [
      "Top 10 generated combination sets:\n",
      "[['ELE55721', 'DAI71083'], ['ELE55721', 'GRO67739'], ['ELE55721', 'ELE38289'], ['ELE55721', 'GRO15017'], ['ELE55721', 'ELE27303'], ['ELE55721', 'DAI23411'], ['ELE55721', 'FRO41939'], ['ELE55721', 'GRO59710'], ['ELE55721', 'ELE16299'], ['ELE55721', 'DAI32718']]\n",
      "\n",
      "The length of combinations sets: 236328\n"
     ]
    }
   ],
   "source": [
    "#Candidate items combinations\n",
    "print(\"Top 10 generated combination sets:\")\n",
    "print(f2_combi[0:10])\n",
    "print(\"\\nThe length of combinations sets:\", len(f2_combi))\n"
   ]
  },
  {
   "cell_type": "code",
   "execution_count": 55,
   "metadata": {},
   "outputs": [],
   "source": [
    "#f2_combi # c2 candidate items"
   ]
  },
  {
   "cell_type": "code",
   "execution_count": null,
   "metadata": {},
   "outputs": [],
   "source": [
    "def Apriori(lists,f2_combi,minsup):\n",
    "    minsup = 0.3/100\n",
    "    size = len(lists)\n",
    "    frequent_list = []\n",
    "    for i in range(len(f2_combi)): # i = 0,1,2\n",
    "        count1 = 0\n",
    "        for j in range(len(lists)): # j = 0,1\n",
    "            results =  all(elem in lists[j]  for elem in f2_combi[i])\n",
    "            if results:\n",
    "                count1 = count1 + 1 \n",
    "        if count1/size >= minsup:\n",
    "            frequent_list.append(f2_combi[i])\n",
    "    return frequent_list"
   ]
  },
  {
   "cell_type": "markdown",
   "metadata": {},
   "source": [
    "# Pruning candidates to find freq itemsets with minimum support = 0.003"
   ]
  },
  {
   "cell_type": "code",
   "execution_count": 250,
   "metadata": {},
   "outputs": [],
   "source": [
    "minsup = 0.3/100\n",
    "size = len(lists)\n",
    "f2 = []\n",
    "for i in range(len(f2_combi)): # i = 0,1,2\n",
    "    count1 = 0\n",
    "    for j in range(len(lists)): # j = 0,1\n",
    "        results =  all(elem in lists[j]  for elem in f2_combi[i])\n",
    "        if results:\n",
    "            count1 = count1 + 1 \n",
    "    if count1/size >= minsup:\n",
    "        f2.append(f2_combi[i])"
   ]
  },
  {
   "cell_type": "code",
   "execution_count": 253,
   "metadata": {},
   "outputs": [
    {
     "name": "stdout",
     "output_type": "stream",
     "text": [
      "1484\n",
      "[['DAI69156', 'ELE17451'], ['SNA20554', 'DAI62779'], ['SNA20554', 'SNA45677'], ['SNA55952', 'DAI62779'], ['SNA55952', 'FRO40251'], ['SNA55952', 'SNA45677'], ['SNA55952', 'ELE32164'], ['SNA55952', 'GRO73461'], ['SNA55952', 'ELE17451'], ['SNA55952', 'DAI63921'], ['SNA55952', 'FRO85978'], ['ELE68605', 'DAI62779'], ['ELE68605', 'FRO40251'], ['ELE68605', 'ELE32164'], ['ELE68605', 'GRO73461'], ['ELE68605', 'ELE17451'], ['GRO56726', 'GRO21487'], ['GRO56726', 'ELE12792'], ['GRO56726', 'ELE26917'], ['GRO56726', 'DAI22177'], ['GRO56726', 'DAI62779'], ['GRO56726', 'FRO40251'], ['GRO56726', 'SNA45677'], ['GRO56726', 'GRO24246'], ['GRO56726', 'GRO46854'], ['GRO56726', 'ELE91337'], ['GRO56726', 'SNA80324'], ['GRO56726', 'GRO35122'], ['GRO56726', 'GRO61133'], ['GRO56726', 'ELE99737'], ['GRO56726', 'SNA93860'], ['GRO56726', 'FRO78087'], ['GRO56726', 'DAI75645'], ['GRO56726', 'DAI87448'], ['GRO56726', 'DAI95741'], ['GRO56726', 'DAI83733'], ['GRO56726', 'GRO30386'], ['GRO56726', 'GRO73461'], ['GRO56726', 'FRO31317'], ['GRO56726', 'FRO79022'], ['GRO56726', 'FRO80039'], ['GRO56726', 'FRO32293'], ['GRO56726', 'ELE17451'], ['GRO56726', 'SNA90094'], ['GRO56726', 'DAI63921'], ['GRO56726', 'FRO85978'], ['GRO56726', 'DAI85309'], ['FRO16142', 'GRO38814'], ['FRO16142', 'DAI62779'], ['FRO16142', 'FRO40251'], ['FRO16142', 'DAI88807'], ['FRO16142', 'SNA80324'], ['FRO16142', 'DAI75645'], ['FRO16142', 'GRO59710'], ['FRO16142', 'DAI22896'], ['FRO16142', 'ELE32164'], ['FRO16142', 'GRO73461'], ['FRO16142', 'ELE17451'], ['FRO16142', 'ELE74009'], ['DAI59508', 'ELE26917'], ['DAI59508', 'DAI62779'], ['FRO81176', 'DAI46755'], ['SNA88283', 'DAI62779'], ['SNA88283', 'GRO30386'], ['SNA88283', 'GRO73461'], ['SNA88283', 'ELE17451'], ['ELE59028', 'DAI62779'], ['ELE59028', 'SNA93860'], ['ELE59028', 'FRO80039'], ['ELE59028', 'ELE17451'], ['ELE59028', 'FRO85978'], ['SNA30755', 'DAI62779'], ['SNA30755', 'ELE17451'], ['ELE49801', 'DAI62779'], ['ELE49801', 'GRO46854'], ['ELE49801', 'SNA93860'], ['ELE49801', 'GRO73461'], ['ELE49801', 'ELE17451'], ['ELE30182', 'SNA24799'], ['GRO21487', 'SNA55762'], ['GRO21487', 'ELE26917'], ['GRO21487', 'GRO38814'], ['GRO21487', 'DAI22177'], ['GRO21487', 'DAI62779'], ['GRO21487', 'FRO40251'], ['GRO21487', 'DAI88807'], ['GRO21487', 'GRO94758'], ['GRO21487', 'SNA45677'], ['GRO21487', 'SNA72163'], ['GRO21487', 'GRO46854'], ['GRO21487', 'ELE91337'], ['GRO21487', 'SNA80324'], ['GRO21487', 'ELE99737'], ['GRO21487', 'DAI31081'], ['GRO21487', 'SNA93860'], ['GRO21487', 'GRO85051'], ['GRO21487', 'DAI75645'], ['GRO21487', 'DAI87448'], ['GRO21487', 'DAI92600'], ['GRO21487', 'ELE34057'], ['GRO21487', 'FRO53271'], ['GRO21487', 'GRO59710'], ['GRO21487', 'ELE66810'], ['GRO21487', 'SNA99873'], ['GRO21487', 'DAI22896'], ['GRO21487', 'ELE74482'], ['GRO21487', 'DAI83733'], ['GRO21487', 'ELE32164'], ['GRO21487', 'GRO15017'], ['GRO21487', 'GRO30386'], ['GRO21487', 'GRO73461'], ['GRO21487', 'FRO31317'], ['GRO21487', 'GRO69543'], ['GRO21487', 'DAI42493'], ['GRO21487', 'GRO71621'], ['GRO21487', 'FRO80039'], ['GRO21487', 'FRO32293'], ['GRO21487', 'FRO35904'], ['GRO21487', 'ELE66600'], ['GRO21487', 'ELE17451'], ['GRO21487', 'GRO81647'], ['GRO21487', 'SNA90094'], ['GRO21487', 'DAI63921'], ['GRO21487', 'GRO44993'], ['GRO21487', 'ELE74009'], ['GRO21487', 'FRO85978'], ['GRO21487', 'DAI85309'], ['FRO78994', 'DAI62779'], ['FRO78994', 'GRO56989'], ['SNA40784', 'DAI62779'], ['SNA40784', 'FRO40251'], ['SNA40784', 'GRO59710'], ['SNA40784', 'SNA99873'], ['SNA40784', 'ELE32164'], ['SNA40784', 'GRO71621'], ['SNA40784', 'ELE17451'], ['SNA40784', 'DAI85309'], ['DAI67189', 'DAI62779'], ['DAI48891', 'ELE78169'], ['DAI48891', 'DAI62779'], ['DAI48891', 'GRO94758'], ['DAI48891', 'SNA45677'], ['DAI48891', 'GRO46854'], ['DAI48891', 'GRO36567'], ['DAI48891', 'DAI83733'], ['DAI48891', 'GRO73461'], ['DAI48891', 'ELE17451'], ['DAI48891', 'DAI63921'], ['SNA55762', 'ELE26917'], ['SNA55762', 'GRO38814'], ['SNA55762', 'DAI22177'], ['SNA55762', 'DAI62779'], ['SNA55762', 'FRO40251'], ['SNA55762', 'GRO94758'], ['SNA55762', 'SNA45677'], ['SNA55762', 'GRO46854'], ['SNA55762', 'ELE91337'], ['SNA55762', 'DAI43223'], ['SNA55762', 'SNA80324'], ['SNA55762', 'ELE99737'], ['SNA55762', 'FRO78087'], ['SNA55762', 'DAI75645'], ['SNA55762', 'ELE34057'], ['SNA55762', 'GRO59710'], ['SNA55762', 'SNA99873'], ['SNA55762', 'DAI83733'], ['SNA55762', 'ELE32164'], ['SNA55762', 'GRO15017'], ['SNA55762', 'GRO30386'], ['SNA55762', 'GRO73461'], ['SNA55762', 'FRO31317'], ['SNA55762', 'GRO71621'], ['SNA55762', 'FRO80039'], ['SNA55762', 'FRO32293'], ['SNA55762', 'FRO35904'], ['SNA55762', 'ELE66600'], ['SNA55762', 'ELE17451'], ['SNA55762', 'DAI63921'], ['SNA55762', 'ELE74009'], ['SNA55762', 'FRO85978'], ['SNA55762', 'FRO98729'], ['SNA55762', 'DAI85309'], ['DAI22534', 'DAI62779'], ['ELE12792', 'DAI62779'], ['ELE12792', 'FRO40251'], ['ELE12792', 'SNA80324'], ['ELE12792', 'DAI75645'], ['ELE12792', 'GRO73461'], ['ELE12792', 'FRO80039'], ['ELE12792', 'ELE17451'], ['ELE12792', 'SNA69641'], ['SNA96271', 'ELE26917'], ['SNA96271', 'DAI62779'], ['SNA96271', 'FRO40251'], ['SNA96271', 'SNA45677'], ['SNA96271', 'GRO46854'], ['SNA96271', 'SNA80324'], ['SNA96271', 'DAI75645'], ['SNA96271', 'SNA31619'], ['SNA96271', 'SNA99873'], ['SNA96271', 'GRO38983'], ['SNA96271', 'SNA50789'], ['SNA96271', 'SNA74022'], ['SNA96271', 'ELE32164'], ['SNA96271', 'ELE20847'], ['SNA96271', 'GRO30386'], ['SNA96271', 'GRO73461'], ['SNA96271', 'FRO31317'], ['SNA96271', 'GRO71621'], ['SNA96271', 'FRO80039'], ['SNA96271', 'FRO35904'], ['SNA96271', 'SNA30533'], ['SNA96271', 'ELE66600'], ['SNA96271', 'ELE17451'], ['SNA96271', 'SNA90094'], ['SNA96271', 'DAI63921'], ['SNA96271', 'DAI85309'], ['ELE37798', 'GRO73461'], ['DAI35347', 'ELE26917'], ['DAI35347', 'DAI62779'], ['DAI35347', 'ELE66810'], ['DAI35347', 'ELE32164'], ['DAI35347', 'FRO31317'], ['DAI35347', 'FRO80039'], ['DAI35347', 'ELE17451'], ['DAI35347', 'DAI85309'], ['ELE87456', 'DAI62779'], ['ELE87456', 'FRO40251'], ['ELE87456', 'ELE32164'], ['ELE87456', 'GRO73461'], ['ELE78169', 'DAI62779'], ['ELE78169', 'GRO94758'], ['ELE78169', 'SNA45677'], ['ELE78169', 'ELE17451'], ['ELE26917', 'GRO38814'], ['ELE26917', 'DAI51880'], ['ELE26917', 'DAI22177'], ['ELE26917', 'GRO64900'], ['ELE26917', 'DAI62779'], ['ELE26917', 'FRO40251'], ['ELE26917', 'ELE24630'], ['ELE26917', 'GRO94758'], ['ELE26917', 'GRO81087'], ['ELE26917', 'SNA45677'], ['ELE26917', 'GRO46854'], ['ELE26917', 'DAI43223'], ['ELE26917', 'SNA80324'], ['ELE26917', 'DAI55911'], ['ELE26917', 'ELE56788'], ['ELE26917', 'GRO85051'], ['ELE26917', 'FRO78087'], ['ELE26917', 'DAI75645'], ['ELE26917', 'ELE92920'], ['ELE26917', 'ELE34057'], ['ELE26917', 'GRO59710'], ['ELE26917', 'DAI83948'], ['ELE26917', 'ELE66810'], ['ELE26917', 'SNA99873'], ['ELE26917', 'GRO38983'], ['ELE26917', 'DAI22896'], ['ELE26917', 'ELE92629'], ['ELE26917', 'ELE74482'], ['ELE26917', 'DAI83733'], ['ELE26917', 'ELE32164'], ['ELE26917', 'GRO15017'], ['ELE26917', 'ELE20847'], ['ELE26917', 'SNA47306'], ['ELE26917', 'GRO30386'], ['ELE26917', 'GRO73461'], ['ELE26917', 'FRO31317'], ['ELE26917', 'ELE59935'], ['ELE26917', 'DAI91290'], ['ELE26917', 'GRO71621'], ['ELE26917', 'FRO80039'], ['ELE26917', 'FRO32293'], ['ELE26917', 'ELE66600'], ['ELE26917', 'ELE17451'], ['ELE26917', 'SNA90094'], ['ELE26917', 'DAI63921'], ['ELE26917', 'GRO44993'], ['ELE26917', 'ELE74009'], ['ELE26917', 'FRO85978'], ['ELE26917', 'FRO98729'], ['ELE26917', 'GRO99222'], ['ELE26917', 'DAI85309'], ['DAI88079', 'DAI62779'], ['DAI88079', 'FRO40251'], ['DAI88079', 'SNA80324'], ['DAI88079', 'DAI75645'], ['DAI88079', 'GRO73461'], ['DAI88079', 'ELE17451'], ['FRO43226', 'DAI62779'], ['FRO43226', 'FRO40251'], ['FRO43226', 'DAI86167'], ['FRO43226', 'FRO66272'], ['FRO43226', 'ELE32164'], ['FRO43226', 'GRO73461'], ['FRO43226', 'FRO48038'], ['GRO38814', 'GRO64900'], ['GRO38814', 'DAI62779'], ['GRO38814', 'FRO40251'], ['GRO38814', 'DAI88807'], ['GRO38814', 'GRO94758'], ['GRO38814', 'SNA45677'], ['GRO38814', 'SNA72163'], ['GRO38814', 'GRO46854'], ['GRO38814', 'DAI43223'], ['GRO38814', 'SNA80324'], ['GRO38814', 'GRO61133'], ['GRO38814', 'SNA93860'], ['GRO38814', 'GRO85051'], ['GRO38814', 'DAI75645'], ['GRO38814', 'FRO53271'], ['GRO38814', 'GRO59710'], ['GRO38814', 'GRO36567'], ['GRO38814', 'SNA99873'], ['GRO38814', 'DAI22896'], ['GRO38814', 'DAI83733'], ['GRO38814', 'ELE32164'], ['GRO38814', 'GRO15017'], ['GRO38814', 'GRO73461'], ['GRO38814', 'FRO31317'], ['GRO38814', 'GRO50832'], ['GRO38814', 'GRO71621'], ['GRO38814', 'FRO80039'], ['GRO38814', 'ELE17451'], ['GRO38814', 'ELE74009'], ['GRO38814', 'DAI85309'], ['SNA90258', 'DAI62779'], ['SNA90258', 'ELE17451'], ['SNA90258', 'GRO99222'], ['DAI53152', 'FRO40251'], ['SNA42528', 'DAI62779'], ['SNA42528', 'FRO40251'], ['SNA42528', 'ELE32164'], ['SNA42528', 'GRO73461'], ['DAI94679', 'DAI62779'], ['DAI94679', 'DAI83031'], ['SNA43319', 'DAI62779'], ['DAI55148', 'DAI62779'], ['DAI55148', 'FRO40251'], ['DAI55148', 'SNA80324'], ['DAI55148', 'DAI75645'], ['DAI55148', 'ELE32164'], ['DAI55148', 'GRO73461'], ['DAI55148', 'FRO92469'], ['DAI55148', 'ELE17451'], ['DAI55148', 'DAI85309'], ['ELE21353', 'DAI62779'], ['ELE21353', 'FRO19221'], ['DAI50913', 'GRO33815'], ['DAI22177', 'DAI62779'], ['DAI22177', 'FRO40251'], ['DAI22177', 'GRO94758'], ['DAI22177', 'SNA45677'], ['DAI22177', 'GRO46854'], ['DAI22177', 'ELE91337'], ['DAI22177', 'SNA80324'], ['DAI22177', 'ELE56788'], ['DAI22177', 'DAI31081'], ['DAI22177', 'FRO78087'], ['DAI22177', 'DAI75645'], ['DAI22177', 'FRO66272'], ['DAI22177', 'ELE34057'], ['DAI22177', 'FRO53271'], ['DAI22177', 'GRO59710'], ['DAI22177', 'ELE66810'], ['DAI22177', 'SNA99873'], ['DAI22177', 'DAI83733'], ['DAI22177', 'ELE32164'], ['DAI22177', 'GRO30386'], ['DAI22177', 'GRO73461'], ['DAI22177', 'FRO31317'], ['DAI22177', 'ELE59935'], ['DAI22177', 'GRO71621'], ['DAI22177', 'FRO80039'], ['DAI22177', 'FRO32293'], ['DAI22177', 'ELE66600'], ['DAI22177', 'ELE17451'], ['DAI22177', 'DAI63921'], ['DAI22177', 'ELE74009'], ['DAI22177', 'FRO85978'], ['DAI22177', 'DAI85309'], ['ELE62598', 'DAI62779'], ['ELE62598', 'FRO40251'], ['ELE62598', 'DAI88807'], ['ELE62598', 'SNA80324'], ['ELE62598', 'GRO59710'], ['ELE62598', 'ELE32164'], ['ELE62598', 'GRO73461'], ['ELE62598', 'ELE17451'], ['ELE62598', 'SNA38068'], ['FRO47962', 'DAI75645'], ['FRO47962', 'GRO73461'], ['GRO64900', 'DAI62779'], ['GRO64900', 'FRO40251'], ['GRO64900', 'SNA45677'], ['GRO64900', 'ELE91337'], ['GRO64900', 'SNA80324'], ['GRO64900', 'DAI75645'], ['GRO64900', 'GRO73461'], ['GRO64900', 'FRO80039'], ['GRO64900', 'ELE17451'], ['GRO64900', 'ELE74009'], ['GRO64900', 'FRO85978'], ['SNA29014', 'DAI62779'], ['GRO17075', 'DAI62779'], ['DAI62779', 'FRO40251'], ['DAI62779', 'ELE36909'], ['DAI62779', 'DAI88807'], ['DAI62779', 'ELE24630'], ['DAI62779', 'ELE81534'], ['DAI62779', 'GRO94758'], ['DAI62779', 'GRO81087'], ['DAI62779', 'SNA83730'], ['DAI62779', 'SNA45677'], ['DAI62779', 'DAI50921'], ['DAI62779', 'SNA72163'], ['DAI62779', 'GRO24246'], ['DAI62779', 'GRO46854'], ['DAI62779', 'ELE37048'], ['DAI62779', 'ELE91337'], ['DAI62779', 'DAI43223'], ['DAI62779', 'ELE85027'], ['DAI62779', 'ELE20196'], ['DAI62779', 'SNA80324'], ['DAI62779', 'DAI55911'], ['DAI62779', 'GRO29598'], ['DAI62779', 'SNA82528'], ['DAI62779', 'SNA96466'], ['DAI62779', 'SNA53220'], ['DAI62779', 'GRO23573'], ['DAI62779', 'DAI23334'], ['DAI62779', 'ELE56788'], ['DAI62779', 'SNA95666'], ['DAI62779', 'GRO32086'], ['DAI62779', 'GRO35122'], ['DAI62779', 'ELE60381'], ['DAI62779', 'SNA57865'], ['DAI62779', 'GRO89148'], ['DAI62779', 'GRO61133'], ['DAI62779', 'GRO56989'], ['DAI62779', 'FRO92261'], ['DAI62779', 'ELE88583'], ['DAI62779', 'ELE99737'], ['DAI62779', 'DAI22240'], ['DAI62779', 'DAI31081'], ['DAI62779', 'SNA93860'], ['DAI62779', 'SNA35625'], ['DAI62779', 'GRO85051'], ['DAI62779', 'ELE53470'], ['DAI62779', 'GRO18367'], ['DAI62779', 'ELE25077'], ['DAI62779', 'FRO78087'], ['DAI62779', 'DAI75645'], ['DAI62779', 'ELE37770'], ['DAI62779', 'SNA24799'], ['DAI62779', 'DAI48126'], ['DAI62779', 'GRO95519'], ['DAI62779', 'ELE12845'], ['DAI62779', 'GRO88511'], ['DAI62779', 'DAI87448'], ['DAI62779', 'ELE92920'], ['DAI62779', 'DAI92600'], ['DAI62779', 'SNA31619'], ['DAI62779', 'SNA68538'], ['DAI62779', 'DAI73122'], ['DAI62779', 'DAI88352'], ['DAI62779', 'FRO66272'], ['DAI62779', 'ELE34057'], ['DAI62779', 'SNA44190'], ['DAI62779', 'SNA18336'], ['DAI62779', 'GRO30912'], ['DAI62779', 'FRO53271'], ['DAI62779', 'GRO59710'], ['DAI62779', 'DAI95741'], ['DAI62779', 'SNA93730'], ['DAI62779', 'ELE14480'], ['DAI62779', 'DAI83948'], ['DAI62779', 'ELE66810'], ['DAI62779', 'GRO36567'], ['DAI62779', 'SNA99873'], ['DAI62779', 'GRO38983'], ['DAI62779', 'FRO99783'], ['DAI62779', 'DAI22896'], ['DAI62779', 'SNA49107'], ['DAI62779', 'ELE74482'], ['DAI62779', 'DAI83733'], ['DAI62779', 'DAI29159'], ['DAI62779', 'SNA50789'], ['DAI62779', 'SNA74022'], ['DAI62779', 'FRO99372'], ['DAI62779', 'ELE32164'], ['DAI62779', 'GRO88324'], ['DAI62779', 'GRO15017'], ['DAI62779', 'ELE20847'], ['DAI62779', 'SNA47306'], ['DAI62779', 'GRO30386'], ['DAI62779', 'DAI38969'], ['DAI62779', 'GRO73461'], ['DAI62779', 'FRO31317'], ['DAI62779', 'SNA59903'], ['DAI62779', 'FRO89565'], ['DAI62779', 'GRO68067'], ['DAI62779', 'ELE59935'], ['DAI62779', 'GRO69543'], ['DAI62779', 'FRO79022'], ['DAI62779', 'SNA59061'], ['DAI62779', 'ELE11111'], ['DAI62779', 'FRO24098'], ['DAI62779', 'DAI42083'], ['DAI62779', 'GRO50832'], ['DAI62779', 'DAI42493'], ['DAI62779', 'DAI91290'], ['DAI62779', 'SNA55617'], ['DAI62779', 'GRO71621'], ['DAI62779', 'SNA40408'], ['DAI62779', 'GRO82670'], ['DAI62779', 'ELE86561'], ['DAI62779', 'FRO92469'], ['DAI62779', 'FRO75586'], ['DAI62779', 'ELE53126'], ['DAI62779', 'FRO80039'], ['DAI62779', 'FRO32293'], ['DAI62779', 'FRO98184'], ['DAI62779', 'FRO35904'], ['DAI62779', 'FRO73056'], ['DAI62779', 'ELE66600'], ['DAI62779', 'FRO19221'], ['DAI62779', 'ELE17451'], ['DAI62779', 'GRO81647'], ['DAI62779', 'SNA90094'], ['DAI62779', 'SNA69641'], ['DAI62779', 'FRO61354'], ['DAI62779', 'DAI63921'], ['DAI62779', 'GRO44993'], ['DAI62779', 'DAI33336'], ['DAI62779', 'SNA62128'], ['DAI62779', 'GRO88505'], ['DAI62779', 'DAI67621'], ['DAI62779', 'ELE69552'], ['DAI62779', 'ELE74009'], ['DAI62779', 'FRO85978'], ['DAI62779', 'GRO83463'], ['DAI62779', 'FRO98729'], ['DAI62779', 'GRO99222'], ['DAI62779', 'DAI49199'], ['DAI62779', 'DAI85309'], ['DAI62779', 'SNA38068'], ['DAI62779', 'ELE20398'], ['DAI62779', 'SNA12663'], ['SNA66979', 'ELE38289'], ['SNA66979', 'ELE66810'], ['FRO40251', 'DAI88807'], ['FRO40251', 'GRO94758'], ['FRO40251', 'GRO81087'], ['FRO40251', 'SNA45677'], ['FRO40251', 'ELE12951'], ['FRO40251', 'SNA72163'], ['FRO40251', 'GRO46854'], ['FRO40251', 'ELE37048'], ['FRO40251', 'SNA80324'], ['FRO40251', 'DAI55911'], ['FRO40251', 'ELE56788'], ['FRO40251', 'GRO32086'], ['FRO40251', 'GRO38636'], ['FRO40251', 'GRO35122'], ['FRO40251', 'GRO61133'], ['FRO40251', 'GRO56989'], ['FRO40251', 'FRO92261'], ['FRO40251', 'ELE99737'], ['FRO40251', 'DAI22240'], ['FRO40251', 'DAI31081'], ['FRO40251', 'SNA93860'], ['FRO40251', 'GRO85051'], ['FRO40251', 'FRO74605'], ['FRO40251', 'FRO78087'], ['FRO40251', 'DAI75645'], ['FRO40251', 'ELE37770'], ['FRO40251', 'GRO88511'], ['FRO40251', 'DAI87448'], ['FRO40251', 'ELE92920'], ['FRO40251', 'DAI92600'], ['FRO40251', 'DAI73122'], ['FRO40251', 'ELE34057'], ['FRO40251', 'SNA18336'], ['FRO40251', 'FRO53271'], ['FRO40251', 'GRO59710'], ['FRO40251', 'DAI95741'], ['FRO40251', 'ELE14480'], ['FRO40251', 'DAI83948'], ['FRO40251', 'DAI93865'], ['FRO40251', 'ELE66810'], ['FRO40251', 'GRO36567'], ['FRO40251', 'SNA99873'], ['FRO40251', 'GRO38983'], ['FRO40251', 'DAI22896'], ['FRO40251', 'ELE74482'], ['FRO40251', 'DAI83733'], ['FRO40251', 'SNA50789'], ['FRO40251', 'ELE32164'], ['FRO40251', 'GRO15017'], ['FRO40251', 'ELE20847'], ['FRO40251', 'SNA47306'], ['FRO40251', 'GRO30386'], ['FRO40251', 'DAI38969'], ['FRO40251', 'GRO73461'], ['FRO40251', 'FRO31317'], ['FRO40251', 'SNA59903'], ['FRO40251', 'FRO89565'], ['FRO40251', 'GRO68067'], ['FRO40251', 'ELE59935'], ['FRO40251', 'GRO69543'], ['FRO40251', 'ELE11111'], ['FRO40251', 'FRO24098'], ['FRO40251', 'GRO50832'], ['FRO40251', 'DAI42493'], ['FRO40251', 'DAI91290'], ['FRO40251', 'GRO71621'], ['FRO40251', 'FRO92469'], ['FRO40251', 'FRO75586'], ['FRO40251', 'ELE53126'], ['FRO40251', 'FRO80039'], ['FRO40251', 'FRO32293'], ['FRO40251', 'FRO35904'], ['FRO40251', 'FRO73056'], ['FRO40251', 'ELE66600'], ['FRO40251', 'ELE17451'], ['FRO40251', 'GRO81647'], ['FRO40251', 'SNA90094'], ['FRO40251', 'FRO61354'], ['FRO40251', 'GRO44993'], ['FRO40251', 'SNA62128'], ['FRO40251', 'ELE74009'], ['FRO40251', 'FRO85978'], ['FRO40251', 'FRO98729'], ['FRO40251', 'GRO99222'], ['FRO40251', 'DAI49199'], ['FRO40251', 'DAI85309'], ['FRO40251', 'SNA38068'], ['FRO40251', 'SNA12663'], ['DAI88807', 'SNA72163'], ['DAI88807', 'SNA80324'], ['DAI88807', 'GRO61133'], ['DAI88807', 'DAI31081'], ['DAI88807', 'SNA93860'], ['DAI88807', 'DAI75645'], ['DAI88807', 'FRO53271'], ['DAI88807', 'GRO59710'], ['DAI88807', 'ELE32164'], ['DAI88807', 'GRO73461'], ['DAI88807', 'FRO31317'], ['DAI88807', 'SNA59903'], ['DAI88807', 'GRO69543'], ['DAI88807', 'DAI42493'], ['DAI88807', 'FRO80039'], ['DAI88807', 'FRO32293'], ['DAI88807', 'ELE17451'], ['DAI88807', 'ELE74009'], ['ELE81534', 'SNA24799'], ['ELE28189', 'FRO17734'], ['GRO94758', 'SNA45677'], ['GRO94758', 'GRO46854'], ['GRO94758', 'GRO52067'], ['GRO94758', 'DAI43223'], ['GRO94758', 'SNA80324'], ['GRO94758', 'ELE99737'], ['GRO94758', 'FRO78087'], ['GRO94758', 'DAI75645'], ['GRO94758', 'GRO59710'], ['GRO94758', 'SNA99873'], ['GRO94758', 'FRO99372'], ['GRO94758', 'ELE32164'], ['GRO94758', 'GRO30386'], ['GRO94758', 'GRO73461'], ['GRO94758', 'ELE11111'], ['GRO94758', 'GRO71621'], ['GRO94758', 'FRO80039'], ['GRO94758', 'ELE17451'], ['GRO94758', 'SNA90094'], ['GRO94758', 'ELE74009'], ['GRO94758', 'FRO85978'], ['GRO94758', 'DAI85309'], ['GRO81087', 'SNA45677'], ['GRO81087', 'DAI43223'], ['GRO81087', 'SNA80324'], ['GRO81087', 'GRO61133'], ['GRO81087', 'DAI75645'], ['GRO81087', 'ELE92920'], ['GRO81087', 'SNA18336'], ['GRO81087', 'GRO59710'], ['GRO81087', 'SNA99873'], ['GRO81087', 'ELE32164'], ['GRO81087', 'GRO15017'], ['GRO81087', 'GRO30386'], ['GRO81087', 'GRO73461'], ['GRO81087', 'FRO31317'], ['GRO81087', 'DAI91290'], ['GRO81087', 'GRO71621'], ['GRO81087', 'ELE17451'], ['GRO81087', 'ELE74009'], ['GRO81087', 'DAI85309'], ['SNA45677', 'SNA72163'], ['SNA45677', 'GRO46854'], ['SNA45677', 'ELE91337'], ['SNA45677', 'DAI43223'], ['SNA45677', 'GRO94173'], ['SNA45677', 'SNA80324'], ['SNA45677', 'ELE56788'], ['SNA45677', 'SNA95666'], ['SNA45677', 'GRO61133'], ['SNA45677', 'ELE99737'], ['SNA45677', 'SNA93860'], ['SNA45677', 'GRO85051'], ['SNA45677', 'FRO78087'], ['SNA45677', 'DAI75645'], ['SNA45677', 'ELE92920'], ['SNA45677', 'ELE34057'], ['SNA45677', 'FRO53271'], ['SNA45677', 'GRO59710'], ['SNA45677', 'ELE66810'], ['SNA45677', 'GRO36567'], ['SNA45677', 'SNA99873'], ['SNA45677', 'GRO38983'], ['SNA45677', 'DAI22896'], ['SNA45677', 'ELE74482'], ['SNA45677', 'DAI83733'], ['SNA45677', 'ELE32164'], ['SNA45677', 'GRO15017'], ['SNA45677', 'SNA47306'], ['SNA45677', 'GRO30386'], ['SNA45677', 'GRO73461'], ['SNA45677', 'FRO31317'], ['SNA45677', 'ELE59935'], ['SNA45677', 'GRO71621'], ['SNA45677', 'ELE86561'], ['SNA45677', 'FRO80039'], ['SNA45677', 'FRO32293'], ['SNA45677', 'FRO35904'], ['SNA45677', 'ELE66600'], ['SNA45677', 'FRO19221'], ['SNA45677', 'ELE17451'], ['SNA45677', 'SNA90094'], ['SNA45677', 'DAI63921'], ['SNA45677', 'GRO44993'], ['SNA45677', 'ELE74009'], ['SNA45677', 'FRO85978'], ['SNA45677', 'GRO99222'], ['SNA45677', 'DAI49199'], ['SNA45677', 'DAI85309'], ['SNA72163', 'SNA80324'], ['SNA72163', 'SNA93860'], ['SNA72163', 'DAI75645'], ['SNA72163', 'DAI22896'], ['SNA72163', 'ELE32164'], ['SNA72163', 'GRO30386'], ['SNA72163', 'GRO73461'], ['SNA72163', 'SNA59903'], ['SNA72163', 'FRO80039'], ['SNA72163', 'ELE17451'], ['SNA72163', 'ELE74009'], ['GRO24246', 'SNA30859'], ['GRO24246', 'ELE14480'], ['GRO24246', 'ELE69552'], ['GRO46854', 'ELE91337'], ['GRO46854', 'SNA80324'], ['GRO46854', 'GRO61133'], ['GRO46854', 'SNA93860'], ['GRO46854', 'FRO78087'], ['GRO46854', 'DAI75645'], ['GRO46854', 'DAI87448'], ['GRO46854', 'ELE92920'], ['GRO46854', 'ELE34057'], ['GRO46854', 'SNA18336'], ['GRO46854', 'DAI95741'], ['GRO46854', 'ELE66810'], ['GRO46854', 'SNA99873'], ['GRO46854', 'FRO99783'], ['GRO46854', 'DAI22896'], ['GRO46854', 'DAI83733'], ['GRO46854', 'ELE32164'], ['GRO46854', 'GRO15017'], ['GRO46854', 'GRO30386'], ['GRO46854', 'GRO73461'], ['GRO46854', 'FRO31317'], ['GRO46854', 'ELE59935'], ['GRO46854', 'FRO79022'], ['GRO46854', 'SNA66583'], ['GRO46854', 'ELE30911'], ['GRO46854', 'GRO71621'], ['GRO46854', 'FRO80039'], ['GRO46854', 'FRO32293'], ['GRO46854', 'FRO35904'], ['GRO46854', 'ELE66600'], ['GRO46854', 'ELE17451'], ['GRO46854', 'SNA90094'], ['GRO46854', 'DAI63921'], ['GRO46854', 'GRO81045'], ['GRO46854', 'ELE74009'], ['GRO46854', 'FRO85978'], ['GRO46854', 'DAI85309'], ['ELE65859', 'ELE34057'], ['ELE37048', 'SNA80324'], ['ELE37048', 'DAI22240'], ['ELE37048', 'SNA99873'], ['ELE37048', 'ELE74482'], ['ELE37048', 'ELE32164'], ['ELE37048', 'ELE53126'], ['ELE37048', 'ELE17451'], ['ELE30933', 'DAI87448'], ['ELE30933', 'GRO73461'], ['ELE91337', 'DAI87448'], ['ELE91337', 'ELE34057'], ['ELE91337', 'GRO36567'], ['ELE91337', 'SNA99873'], ['ELE91337', 'DAI83733'], ['ELE91337', 'GRO73461'], ['ELE91337', 'GRO71621'], ['ELE91337', 'FRO80039'], ['ELE91337', 'FRO35904'], ['ELE91337', 'ELE66600'], ['ELE91337', 'ELE17451'], ['ELE91337', 'DAI63921'], ['ELE91337', 'FRO85978'], ['ELE91337', 'DAI85309'], ['DAI43223', 'ELE99737'], ['DAI43223', 'DAI31081'], ['DAI43223', 'FRO78087'], ['DAI43223', 'ELE92920'], ['DAI43223', 'GRO59710'], ['DAI43223', 'FRO99372'], ['DAI43223', 'ELE32164'], ['DAI43223', 'GRO73461'], ['DAI43223', 'FRO32293'], ['DAI43223', 'ELE17451'], ['DAI43223', 'ELE74009'], ['DAI43223', 'DAI85309'], ['ELE85027', 'ELE20847'], ['DAI88088', 'ELE38289'], ['DAI88088', 'ELE34057'], ['SNA80324', 'DAI55911'], ['SNA80324', 'ELE56788'], ['SNA80324', 'GRO32086'], ['SNA80324', 'GRO35122'], ['SNA80324', 'GRO61133'], ['SNA80324', 'FRO92261'], ['SNA80324', 'ELE99737'], ['SNA80324', 'DAI31081'], ['SNA80324', 'SNA93860'], ['SNA80324', 'GRO85051'], ['SNA80324', 'FRO78087'], ['SNA80324', 'DAI75645'], ['SNA80324', 'GRO88511'], ['SNA80324', 'ELE92920'], ['SNA80324', 'SNA44190'], ['SNA80324', 'FRO53271'], ['SNA80324', 'ELE14480'], ['SNA80324', 'DAI83948'], ['SNA80324', 'ELE66810'], ['SNA80324', 'GRO36567'], ['SNA80324', 'SNA99873'], ['SNA80324', 'GRO38983'], ['SNA80324', 'DAI22896'], ['SNA80324', 'ELE74482'], ['SNA80324', 'DAI83733'], ['SNA80324', 'ELE32164'], ['SNA80324', 'GRO88324'], ['SNA80324', 'GRO15017'], ['SNA80324', 'ELE20847'], ['SNA80324', 'GRO30386'], ['SNA80324', 'GRO73461'], ['SNA80324', 'FRO31317'], ['SNA80324', 'ELE59935'], ['SNA80324', 'GRO69543'], ['SNA80324', 'ELE11111'], ['SNA80324', 'GRO50832'], ['SNA80324', 'DAI42493'], ['SNA80324', 'DAI91290'], ['SNA80324', 'GRO71621'], ['SNA80324', 'FRO92469'], ['SNA80324', 'FRO75586'], ['SNA80324', 'ELE53126'], ['SNA80324', 'FRO80039'], ['SNA80324', 'FRO32293'], ['SNA80324', 'FRO35904'], ['SNA80324', 'ELE66600'], ['SNA80324', 'ELE17451'], ['SNA80324', 'SNA90094'], ['SNA80324', 'FRO61354'], ['SNA80324', 'GRO44993'], ['SNA80324', 'ELE74009'], ['SNA80324', 'FRO85978'], ['SNA80324', 'GRO99222'], ['SNA80324', 'DAI85309'], ['SNA80324', 'SNA38068'], ['DAI55911', 'GRO85051'], ['DAI55911', 'DAI75645'], ['DAI55911', 'GRO59710'], ['DAI55911', 'ELE32164'], ['DAI55911', 'GRO73461'], ['DAI55911', 'ELE17451'], ['SNA82528', 'DAI43868'], ['SNA96466', 'FRO80039'], ['SNA53220', 'SNA93860'], ['SNA53220', 'FRO19221'], ['DAI23334', 'ELE92920'], ['DAI23334', 'ELE17451'], ['ELE56788', 'FRO78087'], ['ELE56788', 'DAI75645'], ['ELE56788', 'ELE34057'], ['ELE56788', 'GRO59710'], ['ELE56788', 'ELE66810'], ['ELE56788', 'DAI83733'], ['ELE56788', 'ELE32164'], ['ELE56788', 'GRO30386'], ['ELE56788', 'GRO73461'], ['ELE56788', 'FRO31317'], ['ELE56788', 'GRO71621'], ['ELE56788', 'FRO80039'], ['ELE56788', 'FRO32293'], ['ELE56788', 'FRO35904'], ['ELE56788', 'ELE17451'], ['ELE56788', 'DAI85309'], ['SNA95666', 'FRO78087'], ['SNA95666', 'GRO73461'], ['SNA95666', 'ELE66600'], ['SNA95666', 'ELE17451'], ['SNA95666', 'DAI63921'], ['SNA95666', 'ELE74009'], ['SNA95666', 'FRO85978'], ['GRO32086', 'DAI75645'], ['GRO32086', 'ELE55848'], ['GRO32086', 'FRO53271'], ['GRO32086', 'SNA99873'], ['GRO32086', 'ELE32164'], ['GRO32086', 'GRO73461'], ['GRO32086', 'FRO31317'], ['GRO32086', 'ELE53126'], ['GRO32086', 'ELE17451'], ['GRO35122', 'DAI75645'], ['GRO35122', 'ELE32164'], ['GRO35122', 'GRO73461'], ['GRO35122', 'ELE17451'], ['SNA57865', 'ELE17451'], ['GRO61133', 'DAI75645'], ['GRO61133', 'GRO59710'], ['GRO61133', 'SNA99873'], ['GRO61133', 'DAI22896'], ['GRO61133', 'ELE32164'], ['GRO61133', 'GRO15017'], ['GRO61133', 'GRO30386'], ['GRO61133', 'GRO73461'], ['GRO61133', 'FRO31317'], ['GRO61133', 'GRO71621'], ['GRO61133', 'FRO80039'], ['GRO61133', 'ELE17451'], ['GRO61133', 'DAI63921'], ['GRO61133', 'ELE74009'], ['GRO61133', 'FRO85978'], ['GRO61133', 'DAI85309'], ['GRO56989', 'DAI31081'], ['GRO56989', 'GRO73461'], ['GRO56989', 'ELE17451'], ['FRO92261', 'SNA99873'], ['FRO92261', 'GRO71621'], ['FRO92261', 'ELE17451'], ['ELE88583', 'SNA24799'], ['ELE88583', 'GRO30912'], ['ELE99737', 'FRO78087'], ['ELE99737', 'ELE34057'], ['ELE99737', 'GRO59710'], ['ELE99737', 'ELE32164'], ['ELE99737', 'GRO73461'], ['ELE99737', 'FRO31317'], ['ELE99737', 'GRO71621'], ['ELE99737', 'FRO80039'], ['ELE99737', 'FRO19221'], ['ELE99737', 'ELE17451'], ['ELE99737', 'SNA90094'], ['ELE99737', 'DAI63921'], ['ELE99737', 'FRO85978'], ['ELE99737', 'DAI85309'], ['DAI22240', 'ELE74482'], ['DAI22240', 'ELE32164'], ['DAI22240', 'ELE17451'], ['DAI31081', 'GRO85051'], ['DAI31081', 'DAI75645'], ['DAI31081', 'FRO53271'], ['DAI31081', 'GRO59710'], ['DAI31081', 'ELE32164'], ['DAI31081', 'GRO30386'], ['DAI31081', 'GRO73461'], ['DAI31081', 'FRO31317'], ['DAI31081', 'GRO69543'], ['DAI31081', 'ELE17451'], ['DAI31081', 'SNA62128'], ['DAI31081', 'ELE74009'], ['SNA93860', 'DAI75645'], ['SNA93860', 'GRO59710'], ['SNA93860', 'SNA99873'], ['SNA93860', 'ELE32164'], ['SNA93860', 'GRO30386'], ['SNA93860', 'GRO73461'], ['SNA93860', 'FRO31317'], ['SNA93860', 'GRO71621'], ['SNA93860', 'FRO80039'], ['SNA93860', 'FRO19221'], ['SNA93860', 'ELE17451'], ['SNA93860', 'ELE74009'], ['SNA93860', 'FRO85978'], ['SNA93860', 'DAI85309'], ['GRO85051', 'DAI75645'], ['GRO85051', 'FRO53271'], ['GRO85051', 'DAI83948'], ['GRO85051', 'ELE20847'], ['GRO85051', 'GRO73461'], ['GRO85051', 'ELE17451'], ['FRO74605', 'GRO73461'], ['ELE25077', 'GRO89004'], ['ELE38289', 'ELE34057'], ['ELE38289', 'ELE35632'], ['FRO19671', 'DAI38969'], ['FRO78087', 'DAI75645'], ['FRO78087', 'GRO59710'], ['FRO78087', 'SNA99873'], ['FRO78087', 'DAI83733'], ['FRO78087', 'ELE32164'], ['FRO78087', 'GRO39357'], ['FRO78087', 'GRO30386'], ['FRO78087', 'GRO73461'], ['FRO78087', 'FRO31317'], ['FRO78087', 'DAI16732'], ['FRO78087', 'GRO71621'], ['FRO78087', 'FRO80039'], ['FRO78087', 'FRO35904'], ['FRO78087', 'ELE66600'], ['FRO78087', 'ELE17451'], ['FRO78087', 'SNA90094'], ['FRO78087', 'ELE74009'], ['FRO78087', 'FRO85978'], ['FRO78087', 'DAI85309'], ['DAI75645', 'GRO88511'], ['DAI75645', 'ELE92920'], ['DAI75645', 'ELE34057'], ['DAI75645', 'SNA18336'], ['DAI75645', 'FRO53271'], ['DAI75645', 'DAI95741'], ['DAI75645', 'ELE14480'], ['DAI75645', 'DAI83948'], ['DAI75645', 'ELE66810'], ['DAI75645', 'SNA99873'], ['DAI75645', 'GRO38983'], ['DAI75645', 'DAI22896'], ['DAI75645', 'ELE74482'], ['DAI75645', 'DAI83733'], ['DAI75645', 'ELE32164'], ['DAI75645', 'GRO15017'], ['DAI75645', 'ELE20847'], ['DAI75645', 'SNA47306'], ['DAI75645', 'GRO30386'], ['DAI75645', 'GRO73461'], ['DAI75645', 'FRO31317'], ['DAI75645', 'ELE59935'], ['DAI75645', 'GRO69543'], ['DAI75645', 'ELE11111'], ['DAI75645', 'DAI42493'], ['DAI75645', 'DAI91290'], ['DAI75645', 'GRO71621'], ['DAI75645', 'FRO92469'], ['DAI75645', 'FRO75586'], ['DAI75645', 'FRO80039'], ['DAI75645', 'FRO32293'], ['DAI75645', 'FRO35904'], ['DAI75645', 'ELE66600'], ['DAI75645', 'ELE17451'], ['DAI75645', 'SNA90094'], ['DAI75645', 'GRO44993'], ['DAI75645', 'SNA62128'], ['DAI75645', 'ELE74009'], ['DAI75645', 'FRO85978'], ['DAI75645', 'GRO99222'], ['DAI75645', 'DAI85309'], ['DAI75645', 'SNA38068'], ['ELE37770', 'ELE74482'], ['ELE37770', 'DAI70456'], ['ELE37770', 'ELE53126'], ['ELE37770', 'ELE17451'], ['SNA24799', 'ELE66810'], ['SNA24799', 'SNA55617'], ['FRO35729', 'ELE66810'], ['FRO64631', 'SNA99873'], ['ELE12845', 'FRO35904'], ['GRO88511', 'DAI83948'], ['GRO88511', 'GRO73461'], ['DAI87448', 'ELE34057'], ['DAI87448', 'DAI83733'], ['DAI87448', 'GRO73461'], ['DAI87448', 'ELE17451'], ['DAI87448', 'FRO85978'], ['DAI87448', 'DAI85309'], ['ELE92920', 'SNA18336'], ['ELE92920', 'GRO59710'], ['ELE92920', 'DAI83733'], ['ELE92920', 'ELE32164'], ['ELE92920', 'GRO15017'], ['ELE92920', 'GRO73461'], ['ELE92920', 'FRO31317'], ['ELE92920', 'DAI42493'], ['ELE92920', 'GRO71621'], ['ELE92920', 'ELE17451'], ['ELE92920', 'ELE74009'], ['ELE92920', 'DAI85309'], ['DAI92600', 'GRO59710'], ['DAI92600', 'ELE32164'], ['DAI92600', 'GRO73461'], ['DAI92600', 'SNA59903'], ['DAI92600', 'DAI42083'], ['DAI92600', 'FRO80039'], ['DAI92600', 'ELE17451'], ['DAI73122', 'ELE32164'], ['DAI73122', 'GRO73461'], ['DAI88352', 'ELE17451'], ['FRO66272', 'GRO73461'], ['FRO66272', 'ELE17451'], ['FRO66272', 'DAI63921'], ['FRO66272', 'DAI85309'], ['ELE34057', 'GRO59710'], ['ELE34057', 'ELE14480'], ['ELE34057', 'ELE66810'], ['ELE34057', 'SNA99873'], ['ELE34057', 'ELE32164'], ['ELE34057', 'GRO73461'], ['ELE34057', 'FRO31317'], ['ELE34057', 'GRO71621'], ['ELE34057', 'FRO80039'], ['ELE34057', 'ELE17451'], ['ELE34057', 'DAI63921'], ['ELE34057', 'ELE74009'], ['ELE34057', 'FRO85978'], ['ELE34057', 'DAI85309'], ['SNA44190', 'GRO73461'], ['SNA18336', 'ELE32164'], ['SNA18336', 'GRO15017'], ['SNA18336', 'GRO73461'], ['SNA18336', 'DAI42493'], ['SNA18336', 'ELE17451'], ['SNA18336', 'DAI85309'], ['FRO53271', 'GRO59710'], ['FRO53271', 'SNA99873'], ['FRO53271', 'DAI22896'], ['FRO53271', 'ELE32164'], ['FRO53271', 'GRO30386'], ['FRO53271', 'GRO73461'], ['FRO53271', 'FRO31317'], ['FRO53271', 'DAI42493'], ['FRO53271', 'ELE53126'], ['FRO53271', 'FRO80039'], ['FRO53271', 'FRO32293'], ['FRO53271', 'ELE17451'], ['FRO53271', 'ELE74009'], ['GRO59710', 'ELE14480'], ['GRO59710', 'ELE66810'], ['GRO59710', 'SNA99873'], ['GRO59710', 'ELE74482'], ['GRO59710', 'ELE32164'], ['GRO59710', 'GRO15017'], ['GRO59710', 'GRO30386'], ['GRO59710', 'GRO73461'], ['GRO59710', 'FRO31317'], ['GRO59710', 'SNA59903'], ['GRO59710', 'GRO69543'], ['GRO59710', 'ELE11111'], ['GRO59710', 'DAI42083'], ['GRO59710', 'DAI42493'], ['GRO59710', 'DAI91290'], ['GRO59710', 'GRO71621'], ['GRO59710', 'ELE53126'], ['GRO59710', 'FRO80039'], ['GRO59710', 'FRO32293'], ['GRO59710', 'ELE17451'], ['GRO59710', 'SNA90094'], ['GRO59710', 'SNA62128'], ['GRO59710', 'ELE74009'], ['GRO59710', 'DAI85309'], ['GRO59710', 'SNA38068'], ['DAI95741', 'GRO73461'], ['DAI95741', 'GRO71621'], ['DAI95741', 'ELE17451'], ['DAI95741', 'SNA90094'], ['DAI95741', 'DAI85309'], ['ELE14480', 'ELE32164'], ['ELE14480', 'GRO73461'], ['ELE14480', 'FRO80039'], ['ELE14480', 'ELE17451'], ['ELE14480', 'SNA62128'], ['ELE14480', 'GRO88505'], ['ELE14480', 'DAI85309'], ['DAI83948', 'ELE32164'], ['DAI83948', 'GRO73461'], ['DAI83948', 'ELE17451'], ['ELE66810', 'SNA99873'], ['ELE66810', 'ELE32164'], ['ELE66810', 'GRO30386'], ['ELE66810', 'GRO73461'], ['ELE66810', 'FRO31317'], ['ELE66810', 'GRO71621'], ['ELE66810', 'FRO41939'], ['ELE66810', 'FRO80039'], ['ELE66810', 'FRO32293'], ['ELE66810', 'ELE66600'], ['ELE66810', 'ELE17451'], ['ELE66810', 'DAI63921'], ['ELE66810', 'ELE74009'], ['ELE66810', 'FRO85978'], ['ELE66810', 'DAI85309'], ['GRO36567', 'SNA47306'], ['GRO36567', 'GRO73461'], ['GRO36567', 'FRO80039'], ['GRO36567', 'ELE74009'], ['SNA99873', 'ELE74482'], ['SNA99873', 'DAI83733'], ['SNA99873', 'ELE32164'], ['SNA99873', 'GRO15017'], ['SNA99873', 'GRO30386'], ['SNA99873', 'DAI38969'], ['SNA99873', 'GRO73461'], ['SNA99873', 'FRO31317'], ['SNA99873', 'GRO71621'], ['SNA99873', 'ELE53126'], ['SNA99873', 'FRO80039'], ['SNA99873', 'FRO32293'], ['SNA99873', 'FRO35904'], ['SNA99873', 'ELE66600'], ['SNA99873', 'ELE17451'], ['SNA99873', 'SNA90094'], ['SNA99873', 'DAI63921'], ['SNA99873', 'ELE74009'], ['SNA99873', 'FRO85978'], ['SNA99873', 'DAI49199'], ['SNA99873', 'DAI85309'], ['GRO38983', 'GRO73461'], ['GRO38983', 'ELE66600'], ['FRO99783', 'FRO79022'], ['FRO99783', 'FRO35904'], ['FRO99783', 'ELE17451'], ['FRO99783', 'FRO85978'], ['DAI22896', 'ELE32164'], ['DAI22896', 'GRO30386'], ['DAI22896', 'GRO73461'], ['DAI22896', 'FRO31317'], ['DAI22896', 'GRO71621'], ['DAI22896', 'ELE17451'], ['DAI22896', 'ELE74009'], ['ELE74482', 'ELE32164'], ['ELE74482', 'GRO30386'], ['ELE74482', 'GRO73461'], ['ELE74482', 'FRO31317'], ['ELE74482', 'ELE53126'], ['ELE74482', 'ELE17451'], ['ELE74482', 'DAI63921'], ['ELE74482', 'ELE74009'], ['ELE74482', 'DAI85309'], ['DAI18527', 'SNA44451'], ['DAI83733', 'ELE32164'], ['DAI83733', 'GRO30386'], ['DAI83733', 'GRO73461'], ['DAI83733', 'FRO31317'], ['DAI83733', 'ELE59935'], ['DAI83733', 'FRO79022'], ['DAI83733', 'GRO71621'], ['DAI83733', 'FRO80039'], ['DAI83733', 'FRO32293'], ['DAI83733', 'FRO35904'], ['DAI83733', 'ELE66600'], ['DAI83733', 'ELE17451'], ['DAI83733', 'DAI63921'], ['DAI83733', 'ELE74009'], ['DAI83733', 'FRO85978'], ['DAI83733', 'DAI85309'], ['FRO99372', 'ELE17451'], ['ELE11160', 'DAI63921'], ['ELE32164', 'DAI37288'], ['ELE32164', 'GRO15017'], ['ELE32164', 'GRO30386'], ['ELE32164', 'GRO73461'], ['ELE32164', 'FRO31317'], ['ELE32164', 'SNA59903'], ['ELE32164', 'FRO89565'], ['ELE32164', 'GRO69543'], ['ELE32164', 'ELE11111'], ['ELE32164', 'SNA71332'], ['ELE32164', 'DAI42493'], ['ELE32164', 'DAI91290'], ['ELE32164', 'GRO71621'], ['ELE32164', 'ELE53126'], ['ELE32164', 'FRO80039'], ['ELE32164', 'FRO32293'], ['ELE32164', 'FRO35904'], ['ELE32164', 'ELE66600'], ['ELE32164', 'ELE17451'], ['ELE32164', 'SNA90094'], ['ELE32164', 'SNA62128'], ['ELE32164', 'ELE74009'], ['ELE32164', 'GRO83463'], ['ELE32164', 'DAI85309'], ['ELE32164', 'SNA38068'], ['GRO88324', 'ELE17451'], ['GRO15017', 'GRO30386'], ['GRO15017', 'GRO73461'], ['GRO15017', 'FRO31317'], ['GRO15017', 'GRO71621'], ['GRO15017', 'FRO80039'], ['GRO15017', 'ELE66600'], ['GRO15017', 'ELE17451'], ['GRO15017', 'SNA90094'], ['GRO15017', 'ELE74009'], ['GRO15017', 'FRO85978'], ['GRO15017', 'DAI85309'], ['ELE20847', 'GRO73461'], ['ELE20847', 'FRO92469'], ['ELE20847', 'FRO75586'], ['ELE20847', 'ELE17451'], ['SNA47306', 'GRO73461'], ['GRO30386', 'GRO73461'], ['GRO30386', 'FRO31317'], ['GRO30386', 'ELE59935'], ['GRO30386', 'GRO69543'], ['GRO30386', 'DAI42493'], ['GRO30386', 'DAI91290'], ['GRO30386', 'GRO71621'], ['GRO30386', 'FRO80039'], ['GRO30386', 'FRO32293'], ['GRO30386', 'FRO98184'], ['GRO30386', 'ELE66600'], ['GRO30386', 'ELE17451'], ['GRO30386', 'SNA90094'], ['GRO30386', 'GRO44993'], ['GRO30386', 'ELE74009'], ['GRO30386', 'DAI85309'], ['GRO30386', 'SNA12663'], ['GRO73461', 'FRO31317'], ['GRO73461', 'SNA59903'], ['GRO73461', 'GRO68067'], ['GRO73461', 'ELE59935'], ['GRO73461', 'GRO69543'], ['GRO73461', 'SNA59061'], ['GRO73461', 'ELE11111'], ['GRO73461', 'FRO24098'], ['GRO73461', 'DAI42493'], ['GRO73461', 'DAI91290'], ['GRO73461', 'GRO71621'], ['GRO73461', 'FRO92469'], ['GRO73461', 'FRO75586'], ['GRO73461', 'ELE53126'], ['GRO73461', 'FRO80039'], ['GRO73461', 'FRO32293'], ['GRO73461', 'FRO35904'], ['GRO73461', 'FRO73056'], ['GRO73461', 'ELE66600'], ['GRO73461', 'FRO19221'], ['GRO73461', 'ELE17451'], ['GRO73461', 'GRO81647'], ['GRO73461', 'SNA90094'], ['GRO73461', 'SNA69641'], ['GRO73461', 'FRO61354'], ['GRO73461', 'DAI63921'], ['GRO73461', 'GRO44993'], ['GRO73461', 'SNA62128'], ['GRO73461', 'ELE74009'], ['GRO73461', 'FRO85978'], ['GRO73461', 'DAI49199'], ['GRO73461', 'DAI85309'], ['GRO73461', 'SNA38068'], ['GRO73461', 'ELE20398'], ['GRO73461', 'SNA12663'], ['FRO31317', 'GRO69543'], ['FRO31317', 'DAI42493'], ['FRO31317', 'GRO71621'], ['FRO31317', 'ELE53126'], ['FRO31317', 'FRO80039'], ['FRO31317', 'FRO32293'], ['FRO31317', 'FRO35904'], ['FRO31317', 'ELE66600'], ['FRO31317', 'ELE17451'], ['FRO31317', 'SNA90094'], ['FRO31317', 'DAI63921'], ['FRO31317', 'SNA62128'], ['FRO31317', 'ELE74009'], ['FRO31317', 'FRO85978'], ['FRO31317', 'DAI85309'], ['SNA59903', 'DAI42083'], ['SNA59903', 'ELE17451'], ['FRO89565', 'ELE17451'], ['ELE59935', 'FRO80039'], ['ELE59935', 'ELE17451'], ['ELE59935', 'DAI63921'], ['ELE59935', 'DAI85309'], ['GRO69543', 'ELE17451'], ['FRO79022', 'ELE17451'], ['FRO79022', 'DAI85309'], ['SNA59061', 'ELE17451'], ['GRO67739', 'GRO44993'], ['ELE11111', 'ELE17451'], ['FRO24098', 'ELE53126'], ['DAI42083', 'ELE17451'], ['SNA85241', 'GRO44993'], ['GRO50832', 'FRO80039'], ['DAI42493', 'GRO71621'], ['DAI42493', 'ELE17451'], ['DAI42493', 'ELE74009'], ['DAI42493', 'DAI85309'], ['DAI91290', 'FRO92469'], ['DAI91290', 'ELE17451'], ['DAI91290', 'SNA90094'], ['DAI91290', 'DAI63921'], ['DAI91290', 'DAI85309'], ['GRO71621', 'FRO80039'], ['GRO71621', 'FRO32293'], ['GRO71621', 'FRO35904'], ['GRO71621', 'ELE66600'], ['GRO71621', 'FRO19221'], ['GRO71621', 'ELE17451'], ['GRO71621', 'SNA90094'], ['GRO71621', 'DAI63921'], ['GRO71621', 'ELE74009'], ['GRO71621', 'FRO85978'], ['GRO71621', 'DAI85309'], ['ELE86561', 'DAI63921'], ['FRO92469', 'ELE17451'], ['FRO75586', 'ELE17451'], ['ELE53126', 'ELE17451'], ['FRO80039', 'FRO32293'], ['FRO80039', 'FRO35904'], ['FRO80039', 'ELE66600'], ['FRO80039', 'ELE17451'], ['FRO80039', 'DAI63921'], ['FRO80039', 'SNA62128'], ['FRO80039', 'ELE74009'], ['FRO80039', 'FRO85978'], ['FRO80039', 'DAI85309'], ['FRO32293', 'ELE17451'], ['FRO32293', 'DAI63921'], ['FRO32293', 'FRO85978'], ['FRO32293', 'DAI85309'], ['FRO98184', 'ELE17451'], ['FRO35904', 'ELE17451'], ['FRO35904', 'DAI63921'], ['FRO35904', 'ELE74009'], ['FRO35904', 'FRO85978'], ['FRO35904', 'DAI85309'], ['FRO73056', 'DAI63921'], ['FRO73056', 'GRO44993'], ['FRO73056', 'FRO85978'], ['ELE66600', 'ELE17451'], ['ELE66600', 'ELE32244'], ['ELE66600', 'DAI63921'], ['ELE66600', 'ELE74009'], ['ELE66600', 'FRO85978'], ['ELE66600', 'FRO98729'], ['ELE66600', 'DAI85309'], ['FRO19221', 'ELE69552'], ['FRO19221', 'DAI85309'], ['ELE17451', 'SNA90094'], ['ELE17451', 'DAI63921'], ['ELE17451', 'SNA62128'], ['ELE17451', 'ELE74009'], ['ELE17451', 'FRO85978'], ['ELE17451', 'GRO83463'], ['ELE17451', 'GRO99222'], ['ELE17451', 'DAI49199'], ['ELE17451', 'DAI85309'], ['ELE17451', 'SNA38068'], ['ELE17451', 'ELE20398'], ['SNA90094', 'ELE74009'], ['SNA90094', 'FRO85978'], ['SNA90094', 'DAI85309'], ['DAI63921', 'GRO44993'], ['DAI63921', 'FRO85978'], ['DAI63921', 'DAI85309'], ['DAI63921', 'SNA12663'], ['GRO44993', 'FRO85978'], ['ELE74009', 'FRO85978'], ['ELE74009', 'DAI85309'], ['FRO85978', 'DAI85309']]\n"
     ]
    }
   ],
   "source": [
    "print(len(f2))\n",
    "print(f2)"
   ]
  },
  {
   "cell_type": "markdown",
   "metadata": {},
   "source": [
    "# Combining F1 with F2 to generate candidate lists c-3"
   ]
  },
  {
   "cell_type": "code",
   "execution_count": 403,
   "metadata": {},
   "outputs": [],
   "source": [
    "# f1 and f2\n",
    "#list1 = [['a' ,  'b', 'q'],['c', 'd', 'p'],['e', 'z','a'],['a', 'd','z'],['e', 'g']]\n",
    "#list2 = [['z'],['e'],['a']]\n",
    "f_list = []\n",
    "sub = []\n",
    "#sub = []\n",
    "for i in range(0,len(f2)):\n",
    "    #sub_test = list1[i]\n",
    "    for j in range(0,len(f1)):\n",
    "        #sub_test = []\n",
    "        sub = f2[i].copy()\n",
    "        #print(sub_test)\n",
    "        #sub = list2[j]\n",
    "        #print(sub)\n",
    "        results1 =  all(elem in f2[i]  for elem in f1[j])      \n",
    "        if results1 == False:\n",
    "            sub.append(f1[j])\n",
    "            #print(sub_test)\n",
    "            f_list.append(sub)        "
   ]
  },
  {
   "cell_type": "code",
   "execution_count": 433,
   "metadata": {},
   "outputs": [
    {
     "name": "stdout",
     "output_type": "stream",
     "text": [
      "['DAI69156', 'ELE17451', 'SNA11790']\n",
      "['DAI69156', 'ELE17451', 'FRO47796']\n",
      "['DAI69156', 'ELE17451', 'ELE58409']\n",
      "['DAI69156', 'ELE17451', 'FRO41069']\n",
      "['DAI69156', 'ELE17451', 'SNA62579']\n",
      "['DAI69156', 'ELE17451', 'SNA20554']\n",
      "['DAI69156', 'ELE17451', 'DAI43747']\n",
      "['DAI69156', 'ELE17451', 'FRO61611']\n",
      "['DAI69156', 'ELE17451', 'FRO90481']\n",
      "['DAI69156', 'ELE17451', 'DAI87507']\n"
     ]
    }
   ],
   "source": [
    "len(f3_combi)\n",
    "for i in range(0,10):\n",
    "    print(f3_combi[i])"
   ]
  },
  {
   "cell_type": "code",
   "execution_count": 2,
   "metadata": {
    "scrolled": false
   },
   "outputs": [],
   "source": [
    "#print(f1)"
   ]
  },
  {
   "cell_type": "markdown",
   "metadata": {},
   "source": [
    "# Checking for the uniqueness"
   ]
  },
  {
   "cell_type": "code",
   "execution_count": 421,
   "metadata": {},
   "outputs": [],
   "source": [
    "yes = 0\n",
    "no = 0\n",
    "for i in range(len(new)):\n",
    "    if(len(set(new[i])) == len(new[i])):\n",
    "        yes = yes+1\n",
    "    else:\n",
    "        print(i)\n",
    "        no = no + 1"
   ]
  },
  {
   "cell_type": "code",
   "execution_count": 422,
   "metadata": {},
   "outputs": [
    {
     "data": {
      "text/plain": [
       "1018024"
      ]
     },
     "execution_count": 422,
     "metadata": {},
     "output_type": "execute_result"
    }
   ],
   "source": [
    "yes"
   ]
  },
  {
   "cell_type": "markdown",
   "metadata": {},
   "source": [
    "# Removing duplicate lists"
   ]
  },
  {
   "cell_type": "code",
   "execution_count": 426,
   "metadata": {},
   "outputs": [],
   "source": [
    "rmv_dup = f_list.copy()\n",
    "f3_combi = []\n",
    "yes = 0\n",
    "no = 0\n",
    "for i in range(len(rmv_dup)):\n",
    "    if(len(set(rmv_dup[i])) == len(rmv_dup[i])):\n",
    "        #yes = yes+1\n",
    "        f3_combi.append(rmv_dup[i])\n",
    "    #else:\n",
    "        #rmv_dup.remove(rmv_dup[i])\n",
    "        #no = no + 1"
   ]
  },
  {
   "cell_type": "code",
   "execution_count": 427,
   "metadata": {},
   "outputs": [
    {
     "data": {
      "text/plain": [
       "1018024"
      ]
     },
     "execution_count": 427,
     "metadata": {},
     "output_type": "execute_result"
    }
   ],
   "source": [
    "len(f3_combi)"
   ]
  },
  {
   "cell_type": "code",
   "execution_count": 429,
   "metadata": {},
   "outputs": [
    {
     "name": "stdout",
     "output_type": "stream",
     "text": [
      "Length of unique 3-set candidates:\n",
      "1018024\n"
     ]
    }
   ],
   "source": [
    "print(\"Length of unique 3-set candidates:\")\n",
    "print(len(f3_combi))"
   ]
  },
  {
   "cell_type": "markdown",
   "metadata": {},
   "source": [
    "# pruning candidates for 3-set freq itemsets with min sup = 0.003"
   ]
  },
  {
   "cell_type": "code",
   "execution_count": 458,
   "metadata": {},
   "outputs": [],
   "source": [
    "minsup = 0.3/100\n",
    "size = len(lists)\n",
    "f3 = []\n",
    "for i in range(len(f3_combi)): # i = 0,1,2\n",
    "    count1 = 0\n",
    "    for j in range(len(lists)): # j = 0,1\n",
    "        results =  all(elem in lists[j]  for elem in f3_combi[i])\n",
    "        if results:\n",
    "            count1 = count1 + 1 \n",
    "    if count1/size >= minsup:\n",
    "        f3.append(f3_combi[i])"
   ]
  },
  {
   "cell_type": "code",
   "execution_count": 460,
   "metadata": {
    "scrolled": true
   },
   "outputs": [
    {
     "name": "stdout",
     "output_type": "stream",
     "text": [
      "[['GRO56726', 'FRO40251', 'GRO73461'], ['GRO56726', 'GRO73461', 'FRO40251'], ['ELE59028', 'DAI62779', 'SNA93860'], ['ELE59028', 'DAI62779', 'FRO85978'], ['ELE59028', 'SNA93860', 'DAI62779'], ['ELE59028', 'SNA93860', 'FRO85978'], ['ELE59028', 'FRO85978', 'DAI62779'], ['ELE59028', 'FRO85978', 'SNA93860'], ['GRO21487', 'DAI62779', 'FRO40251'], ['GRO21487', 'DAI62779', 'GRO73461'], ['GRO21487', 'FRO40251', 'DAI62779'], ['GRO21487', 'FRO40251', 'SNA80324'], ['GRO21487', 'FRO40251', 'GRO85051'], ['GRO21487', 'FRO40251', 'DAI75645'], ['GRO21487', 'FRO40251', 'GRO73461'], ['GRO21487', 'GRO46854', 'GRO73461'], ['GRO21487', 'SNA80324', 'FRO40251'], ['GRO21487', 'GRO85051', 'FRO40251'], ['GRO21487', 'DAI75645', 'FRO40251'], ['GRO21487', 'DAI75645', 'GRO73461'], ['GRO21487', 'GRO73461', 'DAI62779'], ['GRO21487', 'GRO73461', 'FRO40251'], ['GRO21487', 'GRO73461', 'GRO46854'], ['GRO21487', 'GRO73461', 'DAI75645'], ['DAI48891', 'ELE78169', 'SNA45677'], ['DAI48891', 'SNA45677', 'ELE78169'], ['SNA55762', 'DAI62779', 'FRO40251'], ['SNA55762', 'DAI62779', 'SNA80324'], ['SNA55762', 'DAI62779', 'GRO73461'], ['SNA55762', 'DAI62779', 'ELE17451'], ['SNA55762', 'DAI62779', 'DAI85309'], ['SNA55762', 'FRO40251', 'DAI62779'], ['SNA55762', 'FRO40251', 'SNA80324'], ['SNA55762', 'FRO40251', 'DAI75645'], ['SNA55762', 'SNA80324', 'DAI62779'], ['SNA55762', 'SNA80324', 'FRO40251'], ['SNA55762', 'SNA80324', 'DAI75645'], ['SNA55762', 'DAI75645', 'FRO40251'], ['SNA55762', 'DAI75645', 'SNA80324'], ['SNA55762', 'GRO73461', 'DAI62779'], ['SNA55762', 'ELE17451', 'DAI62779'], ['SNA55762', 'DAI85309', 'DAI62779'], ['SNA96271', 'DAI62779', 'SNA45677'], ['SNA96271', 'DAI62779', 'GRO73461'], ['SNA96271', 'DAI62779', 'ELE17451'], ['SNA96271', 'FRO40251', 'SNA80324'], ['SNA96271', 'SNA45677', 'DAI62779'], ['SNA96271', 'SNA80324', 'FRO40251'], ['SNA96271', 'GRO73461', 'DAI62779'], ['SNA96271', 'ELE17451', 'DAI62779'], ['ELE78169', 'DAI62779', 'GRO94758'], ['ELE78169', 'DAI62779', 'SNA45677'], ['ELE78169', 'GRO94758', 'DAI62779'], ['ELE78169', 'GRO94758', 'SNA45677'], ['ELE78169', 'SNA45677', 'DAI48891'], ['ELE78169', 'SNA45677', 'DAI62779'], ['ELE78169', 'SNA45677', 'GRO94758'], ['ELE26917', 'DAI62779', 'FRO40251'], ['ELE26917', 'DAI62779', 'DAI75645'], ['ELE26917', 'DAI62779', 'ELE92920'], ['ELE26917', 'DAI62779', 'GRO73461'], ['ELE26917', 'DAI62779', 'ELE17451'], ['ELE26917', 'FRO40251', 'DAI62779'], ['ELE26917', 'FRO40251', 'SNA80324'], ['ELE26917', 'FRO40251', 'GRO85051'], ['ELE26917', 'FRO40251', 'DAI75645'], ['ELE26917', 'SNA80324', 'FRO40251'], ['ELE26917', 'SNA80324', 'DAI75645'], ['ELE26917', 'GRO85051', 'FRO40251'], ['ELE26917', 'DAI75645', 'DAI62779'], ['ELE26917', 'DAI75645', 'FRO40251'], ['ELE26917', 'DAI75645', 'SNA80324'], ['ELE26917', 'ELE92920', 'DAI62779'], ['ELE26917', 'GRO73461', 'DAI62779'], ['ELE26917', 'ELE17451', 'DAI62779'], ['DAI88079', 'DAI62779', 'FRO40251'], ['DAI88079', 'FRO40251', 'DAI62779'], ['DAI88079', 'FRO40251', 'SNA80324'], ['DAI88079', 'FRO40251', 'DAI75645'], ['DAI88079', 'FRO40251', 'GRO73461'], ['DAI88079', 'FRO40251', 'ELE17451'], ['DAI88079', 'SNA80324', 'FRO40251'], ['DAI88079', 'DAI75645', 'FRO40251'], ['DAI88079', 'GRO73461', 'FRO40251'], ['DAI88079', 'ELE17451', 'FRO40251'], ['GRO38814', 'DAI62779', 'FRO40251'], ['GRO38814', 'DAI62779', 'GRO73461'], ['GRO38814', 'DAI62779', 'ELE17451'], ['GRO38814', 'FRO40251', 'DAI62779'], ['GRO38814', 'FRO40251', 'SNA80324'], ['GRO38814', 'FRO40251', 'GRO85051'], ['GRO38814', 'FRO40251', 'DAI75645'], ['GRO38814', 'FRO40251', 'GRO73461'], ['GRO38814', 'SNA80324', 'FRO40251'], ['GRO38814', 'SNA80324', 'DAI75645'], ['GRO38814', 'GRO85051', 'FRO40251'], ['GRO38814', 'DAI75645', 'FRO40251'], ['GRO38814', 'DAI75645', 'SNA80324'], ['GRO38814', 'DAI75645', 'GRO73461'], ['GRO38814', 'GRO73461', 'DAI62779'], ['GRO38814', 'GRO73461', 'FRO40251'], ['GRO38814', 'GRO73461', 'DAI75645'], ['GRO38814', 'ELE17451', 'DAI62779'], ['DAI55148', 'DAI62779', 'FRO40251'], ['DAI55148', 'DAI62779', 'SNA80324'], ['DAI55148', 'DAI62779', 'DAI75645'], ['DAI55148', 'DAI62779', 'ELE17451'], ['DAI55148', 'FRO40251', 'DAI62779'], ['DAI55148', 'FRO40251', 'SNA80324'], ['DAI55148', 'FRO40251', 'DAI75645'], ['DAI55148', 'FRO40251', 'FRO92469'], ['DAI55148', 'FRO40251', 'ELE17451'], ['DAI55148', 'SNA80324', 'DAI62779'], ['DAI55148', 'SNA80324', 'FRO40251'], ['DAI55148', 'SNA80324', 'DAI75645'], ['DAI55148', 'SNA80324', 'ELE17451'], ['DAI55148', 'DAI75645', 'DAI62779'], ['DAI55148', 'DAI75645', 'FRO40251'], ['DAI55148', 'DAI75645', 'SNA80324'], ['DAI55148', 'DAI75645', 'ELE17451'], ['DAI55148', 'FRO92469', 'FRO40251'], ['DAI55148', 'ELE17451', 'DAI62779'], ['DAI55148', 'ELE17451', 'FRO40251'], ['DAI55148', 'ELE17451', 'SNA80324'], ['DAI55148', 'ELE17451', 'DAI75645'], ['ELE21353', 'DAI62779', 'FRO19221'], ['ELE21353', 'FRO19221', 'DAI62779'], ['ELE62598', 'DAI62779', 'SNA38068'], ['ELE62598', 'SNA38068', 'DAI62779'], ['FRO47962', 'DAI75645', 'GRO73461'], ['FRO47962', 'GRO73461', 'DAI75645'], ['DAI62779', 'FRO40251', 'GRO21487'], ['DAI62779', 'FRO40251', 'SNA55762'], ['DAI62779', 'FRO40251', 'ELE26917'], ['DAI62779', 'FRO40251', 'DAI88079'], ['DAI62779', 'FRO40251', 'GRO38814'], ['DAI62779', 'FRO40251', 'DAI55148'], ['DAI62779', 'FRO40251', 'SNA45677'], ['DAI62779', 'FRO40251', 'SNA80324'], ['DAI62779', 'FRO40251', 'GRO85051'], ['DAI62779', 'FRO40251', 'DAI75645'], ['DAI62779', 'FRO40251', 'ELE92920'], ['DAI62779', 'FRO40251', 'SNA18336'], ['DAI62779', 'FRO40251', 'ELE20847'], ['DAI62779', 'FRO40251', 'GRO30386'], ['DAI62779', 'FRO40251', 'GRO73461'], ['DAI62779', 'FRO40251', 'DAI42493'], ['DAI62779', 'FRO40251', 'GRO71621'], ['DAI62779', 'FRO40251', 'FRO92469'], ['DAI62779', 'FRO40251', 'ELE17451'], ['DAI62779', 'FRO40251', 'DAI85309'], ['DAI62779', 'DAI88807', 'SNA72163'], ['DAI62779', 'DAI88807', 'SNA59903'], ['DAI62779', 'DAI88807', 'ELE17451'], ['DAI62779', 'GRO94758', 'ELE78169'], ['DAI62779', 'GRO94758', 'SNA45677'], ['DAI62779', 'GRO94758', 'SNA80324'], ['DAI62779', 'GRO94758', 'ELE17451'], ['DAI62779', 'GRO94758', 'DAI85309'], ['DAI62779', 'GRO81087', 'ELE92920'], ['DAI62779', 'GRO81087', 'SNA18336'], ['DAI62779', 'GRO81087', 'ELE17451'], ['DAI62779', 'SNA45677', 'SNA96271'], ['DAI62779', 'SNA45677', 'ELE78169'], ['DAI62779', 'SNA45677', 'FRO40251'], ['DAI62779', 'SNA45677', 'GRO94758'], ['DAI62779', 'SNA45677', 'SNA80324'], ['DAI62779', 'SNA45677', 'GRO73461'], ['DAI62779', 'SNA45677', 'ELE17451'], ['DAI62779', 'SNA45677', 'DAI85309'], ['DAI62779', 'SNA72163', 'DAI88807'], ['DAI62779', 'SNA72163', 'SNA59903'], ['DAI62779', 'SNA72163', 'ELE17451'], ['DAI62779', 'GRO46854', 'GRO73461'], ['DAI62779', 'GRO46854', 'ELE17451'], ['DAI62779', 'GRO46854', 'DAI85309'], ['DAI62779', 'DAI43223', 'ELE92920'], ['DAI62779', 'DAI43223', 'GRO59710'], ['DAI62779', 'DAI43223', 'ELE32164'], ['DAI62779', 'DAI43223', 'ELE17451'], ['DAI62779', 'SNA80324', 'SNA55762'], ['DAI62779', 'SNA80324', 'DAI55148'], ['DAI62779', 'SNA80324', 'FRO40251'], ['DAI62779', 'SNA80324', 'GRO94758'], ['DAI62779', 'SNA80324', 'SNA45677'], ['DAI62779', 'SNA80324', 'GRO85051'], ['DAI62779', 'SNA80324', 'DAI75645'], ['DAI62779', 'SNA80324', 'ELE20847'], ['DAI62779', 'SNA80324', 'GRO30386'], ['DAI62779', 'SNA80324', 'GRO73461'], ['DAI62779', 'SNA80324', 'GRO71621'], ['DAI62779', 'SNA80324', 'FRO92469'], ['DAI62779', 'SNA80324', 'ELE17451'], ['DAI62779', 'SNA53220', 'SNA93860'], ['DAI62779', 'SNA53220', 'FRO19221'], ['DAI62779', 'DAI23334', 'ELE92920'], ['DAI62779', 'DAI23334', 'ELE17451'], ['DAI62779', 'ELE56788', 'ELE17451'], ['DAI62779', 'SNA95666', 'FRO85978'], ['DAI62779', 'ELE99737', 'DAI85309'], ['DAI62779', 'DAI31081', 'GRO73461'], ['DAI62779', 'DAI31081', 'ELE17451'], ['DAI62779', 'SNA93860', 'ELE59028'], ['DAI62779', 'SNA93860', 'SNA53220'], ['DAI62779', 'SNA93860', 'FRO19221'], ['DAI62779', 'SNA93860', 'FRO85978'], ['DAI62779', 'GRO85051', 'FRO40251'], ['DAI62779', 'GRO85051', 'SNA80324'], ['DAI62779', 'GRO85051', 'DAI75645'], ['DAI62779', 'GRO85051', 'ELE17451'], ['DAI62779', 'FRO78087', 'ELE17451'], ['DAI62779', 'DAI75645', 'ELE26917'], ['DAI62779', 'DAI75645', 'DAI55148'], ['DAI62779', 'DAI75645', 'FRO40251'], ['DAI62779', 'DAI75645', 'SNA80324'], ['DAI62779', 'DAI75645', 'GRO85051'], ['DAI62779', 'DAI75645', 'ELE92920'], ['DAI62779', 'DAI75645', 'ELE20847'], ['DAI62779', 'DAI75645', 'GRO30386'], ['DAI62779', 'DAI75645', 'GRO73461'], ['DAI62779', 'DAI75645', 'ELE17451'], ['DAI62779', 'DAI75645', 'DAI85309'], ['DAI62779', 'ELE92920', 'ELE26917'], ['DAI62779', 'ELE92920', 'FRO40251'], ['DAI62779', 'ELE92920', 'GRO81087'], ['DAI62779', 'ELE92920', 'DAI43223'], ['DAI62779', 'ELE92920', 'DAI23334'], ['DAI62779', 'ELE92920', 'DAI75645'], ['DAI62779', 'ELE92920', 'SNA18336'], ['DAI62779', 'ELE92920', 'GRO59710'], ['DAI62779', 'ELE92920', 'DAI83733'], ['DAI62779', 'ELE92920', 'ELE32164'], ['DAI62779', 'ELE92920', 'GRO15017'], ['DAI62779', 'ELE92920', 'DAI42493'], ['DAI62779', 'ELE92920', 'ELE17451'], ['DAI62779', 'ELE92920', 'ELE74009'], ['DAI62779', 'ELE92920', 'DAI85309'], ['DAI62779', 'DAI92600', 'DAI42083'], ['DAI62779', 'SNA18336', 'FRO40251'], ['DAI62779', 'SNA18336', 'GRO81087'], ['DAI62779', 'SNA18336', 'ELE92920'], ['DAI62779', 'SNA18336', 'ELE32164'], ['DAI62779', 'SNA18336', 'GRO15017'], ['DAI62779', 'SNA18336', 'DAI42493'], ['DAI62779', 'SNA18336', 'ELE17451'], ['DAI62779', 'SNA18336', 'DAI85309'], ['DAI62779', 'GRO59710', 'DAI43223'], ['DAI62779', 'GRO59710', 'ELE92920'], ['DAI62779', 'GRO59710', 'ELE32164'], ['DAI62779', 'GRO59710', 'GRO30386'], ['DAI62779', 'GRO59710', 'GRO73461'], ['DAI62779', 'GRO59710', 'ELE17451'], ['DAI62779', 'SNA99873', 'ELE17451'], ['DAI62779', 'DAI22896', 'GRO73461'], ['DAI62779', 'DAI83733', 'ELE92920'], ['DAI62779', 'DAI83733', 'GRO73461'], ['DAI62779', 'DAI83733', 'ELE17451'], ['DAI62779', 'DAI83733', 'DAI85309'], ['DAI62779', 'ELE32164', 'DAI43223'], ['DAI62779', 'ELE32164', 'ELE92920'], ['DAI62779', 'ELE32164', 'SNA18336'], ['DAI62779', 'ELE32164', 'GRO59710'], ['DAI62779', 'ELE32164', 'GRO30386'], ['DAI62779', 'ELE32164', 'GRO73461'], ['DAI62779', 'ELE32164', 'DAI42493'], ['DAI62779', 'ELE32164', 'ELE17451'], ['DAI62779', 'ELE32164', 'DAI85309'], ['DAI62779', 'GRO15017', 'ELE92920'], ['DAI62779', 'GRO15017', 'SNA18336'], ['DAI62779', 'GRO15017', 'GRO73461'], ['DAI62779', 'GRO15017', 'ELE17451'], ['DAI62779', 'ELE20847', 'FRO40251'], ['DAI62779', 'ELE20847', 'SNA80324'], ['DAI62779', 'ELE20847', 'DAI75645'], ['DAI62779', 'ELE20847', 'ELE17451'], ['DAI62779', 'GRO30386', 'FRO40251'], ['DAI62779', 'GRO30386', 'SNA80324'], ['DAI62779', 'GRO30386', 'DAI75645'], ['DAI62779', 'GRO30386', 'GRO59710'], ['DAI62779', 'GRO30386', 'ELE32164'], ['DAI62779', 'GRO30386', 'GRO73461'], ['DAI62779', 'GRO30386', 'ELE17451'], ['DAI62779', 'GRO73461', 'GRO21487'], ['DAI62779', 'GRO73461', 'SNA55762'], ['DAI62779', 'GRO73461', 'SNA96271'], ['DAI62779', 'GRO73461', 'ELE26917'], ['DAI62779', 'GRO73461', 'GRO38814'], ['DAI62779', 'GRO73461', 'FRO40251'], ['DAI62779', 'GRO73461', 'SNA45677'], ['DAI62779', 'GRO73461', 'GRO46854'], ['DAI62779', 'GRO73461', 'SNA80324'], ['DAI62779', 'GRO73461', 'DAI31081'], ['DAI62779', 'GRO73461', 'DAI75645'], ['DAI62779', 'GRO73461', 'GRO59710'], ['DAI62779', 'GRO73461', 'DAI22896'], ['DAI62779', 'GRO73461', 'DAI83733'], ['DAI62779', 'GRO73461', 'ELE32164'], ['DAI62779', 'GRO73461', 'GRO15017'], ['DAI62779', 'GRO73461', 'GRO30386'], ['DAI62779', 'GRO73461', 'FRO31317'], ['DAI62779', 'GRO73461', 'GRO71621'], ['DAI62779', 'GRO73461', 'FRO19221'], ['DAI62779', 'GRO73461', 'ELE17451'], ['DAI62779', 'GRO73461', 'FRO85978'], ['DAI62779', 'GRO73461', 'DAI85309'], ['DAI62779', 'FRO31317', 'GRO73461'], ['DAI62779', 'FRO31317', 'ELE17451'], ['DAI62779', 'SNA59903', 'DAI88807'], ['DAI62779', 'SNA59903', 'SNA72163'], ['DAI62779', 'SNA59903', 'ELE17451'], ['DAI62779', 'DAI42083', 'DAI92600'], ['DAI62779', 'DAI42493', 'FRO40251'], ['DAI62779', 'DAI42493', 'ELE92920'], ['DAI62779', 'DAI42493', 'SNA18336'], ['DAI62779', 'DAI42493', 'ELE32164'], ['DAI62779', 'DAI42493', 'ELE17451'], ['DAI62779', 'DAI91290', 'ELE17451'], ['DAI62779', 'GRO71621', 'FRO40251'], ['DAI62779', 'GRO71621', 'SNA80324'], ['DAI62779', 'GRO71621', 'GRO73461'], ['DAI62779', 'GRO71621', 'ELE17451'], ['DAI62779', 'GRO71621', 'DAI85309'], ['DAI62779', 'FRO92469', 'FRO40251'], ['DAI62779', 'FRO92469', 'SNA80324'], ['DAI62779', 'FRO92469', 'ELE17451'], ['DAI62779', 'FRO80039', 'ELE17451'], ['DAI62779', 'FRO19221', 'ELE21353'], ['DAI62779', 'FRO19221', 'SNA53220'], ['DAI62779', 'FRO19221', 'SNA93860'], ['DAI62779', 'FRO19221', 'GRO73461'], ['DAI62779', 'FRO19221', 'DAI85309'], ['DAI62779', 'ELE17451', 'SNA55762'], ['DAI62779', 'ELE17451', 'SNA96271'], ['DAI62779', 'ELE17451', 'ELE26917'], ['DAI62779', 'ELE17451', 'GRO38814'], ['DAI62779', 'ELE17451', 'DAI55148'], ['DAI62779', 'ELE17451', 'FRO40251'], ['DAI62779', 'ELE17451', 'DAI88807'], ['DAI62779', 'ELE17451', 'GRO94758'], ['DAI62779', 'ELE17451', 'GRO81087'], ['DAI62779', 'ELE17451', 'SNA45677'], ['DAI62779', 'ELE17451', 'SNA72163'], ['DAI62779', 'ELE17451', 'GRO46854'], ['DAI62779', 'ELE17451', 'DAI43223'], ['DAI62779', 'ELE17451', 'SNA80324'], ['DAI62779', 'ELE17451', 'DAI23334'], ['DAI62779', 'ELE17451', 'ELE56788'], ['DAI62779', 'ELE17451', 'DAI31081'], ['DAI62779', 'ELE17451', 'GRO85051'], ['DAI62779', 'ELE17451', 'FRO78087'], ['DAI62779', 'ELE17451', 'DAI75645'], ['DAI62779', 'ELE17451', 'ELE92920'], ['DAI62779', 'ELE17451', 'SNA18336'], ['DAI62779', 'ELE17451', 'GRO59710'], ['DAI62779', 'ELE17451', 'SNA99873'], ['DAI62779', 'ELE17451', 'DAI83733'], ['DAI62779', 'ELE17451', 'ELE32164'], ['DAI62779', 'ELE17451', 'GRO15017'], ['DAI62779', 'ELE17451', 'ELE20847'], ['DAI62779', 'ELE17451', 'GRO30386'], ['DAI62779', 'ELE17451', 'GRO73461'], ['DAI62779', 'ELE17451', 'FRO31317'], ['DAI62779', 'ELE17451', 'SNA59903'], ['DAI62779', 'ELE17451', 'DAI42493'], ['DAI62779', 'ELE17451', 'DAI91290'], ['DAI62779', 'ELE17451', 'GRO71621'], ['DAI62779', 'ELE17451', 'FRO92469'], ['DAI62779', 'ELE17451', 'FRO80039'], ['DAI62779', 'ELE17451', 'SNA90094'], ['DAI62779', 'ELE17451', 'ELE74009'], ['DAI62779', 'ELE17451', 'DAI85309'], ['DAI62779', 'ELE17451', 'SNA38068'], ['DAI62779', 'SNA90094', 'ELE17451'], ['DAI62779', 'ELE74009', 'ELE92920'], ['DAI62779', 'ELE74009', 'ELE17451'], ['DAI62779', 'FRO85978', 'ELE59028'], ['DAI62779', 'FRO85978', 'SNA95666'], ['DAI62779', 'FRO85978', 'SNA93860'], ['DAI62779', 'FRO85978', 'GRO73461'], ['DAI62779', 'DAI85309', 'SNA55762'], ['DAI62779', 'DAI85309', 'FRO40251'], ['DAI62779', 'DAI85309', 'GRO94758'], ['DAI62779', 'DAI85309', 'SNA45677'], ['DAI62779', 'DAI85309', 'GRO46854'], ['DAI62779', 'DAI85309', 'ELE99737'], ['DAI62779', 'DAI85309', 'DAI75645'], ['DAI62779', 'DAI85309', 'ELE92920'], ['DAI62779', 'DAI85309', 'SNA18336'], ['DAI62779', 'DAI85309', 'DAI83733'], ['DAI62779', 'DAI85309', 'ELE32164'], ['DAI62779', 'DAI85309', 'GRO73461'], ['DAI62779', 'DAI85309', 'GRO71621'], ['DAI62779', 'DAI85309', 'FRO19221'], ['DAI62779', 'DAI85309', 'ELE17451'], ['DAI62779', 'SNA38068', 'ELE62598'], ['DAI62779', 'SNA38068', 'ELE17451'], ['FRO40251', 'GRO94758', 'SNA80324'], ['FRO40251', 'GRO94758', 'DAI75645'], ['FRO40251', 'GRO81087', 'SNA80324'], ['FRO40251', 'GRO81087', 'DAI75645'], ['FRO40251', 'SNA45677', 'DAI62779'], ['FRO40251', 'SNA45677', 'SNA80324'], ['FRO40251', 'SNA45677', 'GRO85051'], ['FRO40251', 'SNA45677', 'DAI75645'], ['FRO40251', 'GRO46854', 'GRO73461'], ['FRO40251', 'SNA80324', 'GRO21487'], ['FRO40251', 'SNA80324', 'SNA55762'], ['FRO40251', 'SNA80324', 'SNA96271'], ['FRO40251', 'SNA80324', 'ELE26917'], ['FRO40251', 'SNA80324', 'DAI88079'], ['FRO40251', 'SNA80324', 'GRO38814'], ['FRO40251', 'SNA80324', 'DAI55148'], ['FRO40251', 'SNA80324', 'DAI62779'], ['FRO40251', 'SNA80324', 'GRO94758'], ['FRO40251', 'SNA80324', 'GRO81087'], ['FRO40251', 'SNA80324', 'SNA45677'], ['FRO40251', 'SNA80324', 'DAI31081'], ['FRO40251', 'SNA80324', 'GRO85051'], ['FRO40251', 'SNA80324', 'DAI75645'], ['FRO40251', 'SNA80324', 'FRO53271'], ['FRO40251', 'SNA80324', 'DAI83733'], ['FRO40251', 'SNA80324', 'ELE20847'], ['FRO40251', 'SNA80324', 'GRO30386'], ['FRO40251', 'SNA80324', 'GRO73461'], ['FRO40251', 'SNA80324', 'GRO71621'], ['FRO40251', 'SNA80324', 'FRO92469'], ['FRO40251', 'SNA80324', 'FRO80039'], ['FRO40251', 'SNA80324', 'ELE17451'], ['FRO40251', 'SNA80324', 'ELE74009'], ['FRO40251', 'SNA80324', 'DAI85309'], ['FRO40251', 'DAI55911', 'GRO85051'], ['FRO40251', 'DAI31081', 'SNA80324'], ['FRO40251', 'DAI31081', 'GRO85051'], ['FRO40251', 'DAI31081', 'DAI75645'], ['FRO40251', 'GRO85051', 'GRO21487'], ['FRO40251', 'GRO85051', 'ELE26917'], ['FRO40251', 'GRO85051', 'GRO38814'], ['FRO40251', 'GRO85051', 'DAI62779'], ['FRO40251', 'GRO85051', 'SNA45677'], ['FRO40251', 'GRO85051', 'SNA80324'], ['FRO40251', 'GRO85051', 'DAI55911'], ['FRO40251', 'GRO85051', 'DAI31081'], ['FRO40251', 'GRO85051', 'DAI75645'], ['FRO40251', 'GRO85051', 'FRO53271'], ['FRO40251', 'GRO85051', 'DAI83948'], ['FRO40251', 'GRO85051', 'ELE20847'], ['FRO40251', 'GRO85051', 'GRO73461'], ['FRO40251', 'GRO85051', 'ELE17451'], ['FRO40251', 'DAI75645', 'GRO21487'], ['FRO40251', 'DAI75645', 'SNA55762'], ['FRO40251', 'DAI75645', 'ELE26917'], ['FRO40251', 'DAI75645', 'DAI88079'], ['FRO40251', 'DAI75645', 'GRO38814'], ['FRO40251', 'DAI75645', 'DAI55148'], ['FRO40251', 'DAI75645', 'DAI62779'], ['FRO40251', 'DAI75645', 'GRO94758'], ['FRO40251', 'DAI75645', 'GRO81087'], ['FRO40251', 'DAI75645', 'SNA45677'], ['FRO40251', 'DAI75645', 'SNA80324'], ['FRO40251', 'DAI75645', 'DAI31081'], ['FRO40251', 'DAI75645', 'GRO85051'], ['FRO40251', 'DAI75645', 'FRO53271'], ['FRO40251', 'DAI75645', 'ELE20847'], ['FRO40251', 'DAI75645', 'GRO30386'], ['FRO40251', 'DAI75645', 'GRO73461'], ['FRO40251', 'DAI75645', 'GRO71621'], ['FRO40251', 'DAI75645', 'FRO92469'], ['FRO40251', 'DAI75645', 'ELE17451'], ['FRO40251', 'DAI75645', 'SNA90094'], ['FRO40251', 'DAI75645', 'ELE74009'], ['FRO40251', 'DAI75645', 'DAI85309'], ['FRO40251', 'ELE92920', 'DAI62779'], ['FRO40251', 'ELE92920', 'SNA18336'], ['FRO40251', 'SNA18336', 'DAI62779'], ['FRO40251', 'SNA18336', 'ELE92920'], ['FRO40251', 'FRO53271', 'SNA80324'], ['FRO40251', 'FRO53271', 'GRO85051'], ['FRO40251', 'FRO53271', 'DAI75645'], ['FRO40251', 'DAI83948', 'GRO85051'], ['FRO40251', 'DAI83733', 'SNA80324'], ['FRO40251', 'ELE20847', 'DAI62779'], ['FRO40251', 'ELE20847', 'SNA80324'], ['FRO40251', 'ELE20847', 'GRO85051'], ['FRO40251', 'ELE20847', 'DAI75645'], ['FRO40251', 'ELE20847', 'FRO92469'], ['FRO40251', 'GRO30386', 'DAI62779'], ['FRO40251', 'GRO30386', 'SNA80324'], ['FRO40251', 'GRO30386', 'DAI75645'], ['FRO40251', 'GRO73461', 'GRO56726'], ['FRO40251', 'GRO73461', 'GRO21487'], ['FRO40251', 'GRO73461', 'DAI88079'], ['FRO40251', 'GRO73461', 'GRO38814'], ['FRO40251', 'GRO73461', 'DAI62779'], ['FRO40251', 'GRO73461', 'GRO46854'], ['FRO40251', 'GRO73461', 'SNA80324'], ['FRO40251', 'GRO73461', 'GRO85051'], ['FRO40251', 'GRO73461', 'DAI75645'], ['FRO40251', 'GRO73461', 'GRO69543'], ['FRO40251', 'GRO73461', 'FRO92469'], ['FRO40251', 'GRO73461', 'ELE17451'], ['FRO40251', 'GRO73461', 'FRO85978'], ['FRO40251', 'GRO69543', 'GRO73461'], ['FRO40251', 'DAI42493', 'DAI62779'], ['FRO40251', 'GRO71621', 'DAI62779'], ['FRO40251', 'GRO71621', 'SNA80324'], ['FRO40251', 'GRO71621', 'DAI75645'], ['FRO40251', 'FRO92469', 'DAI55148'], ['FRO40251', 'FRO92469', 'DAI62779'], ['FRO40251', 'FRO92469', 'SNA80324'], ['FRO40251', 'FRO92469', 'DAI75645'], ['FRO40251', 'FRO92469', 'ELE20847'], ['FRO40251', 'FRO92469', 'GRO73461'], ['FRO40251', 'FRO92469', 'ELE17451'], ['FRO40251', 'FRO80039', 'SNA80324'], ['FRO40251', 'ELE17451', 'DAI88079'], ['FRO40251', 'ELE17451', 'DAI55148'], ['FRO40251', 'ELE17451', 'DAI62779'], ['FRO40251', 'ELE17451', 'SNA80324'], ['FRO40251', 'ELE17451', 'GRO85051'], ['FRO40251', 'ELE17451', 'DAI75645'], ['FRO40251', 'ELE17451', 'GRO73461'], ['FRO40251', 'ELE17451', 'FRO92469'], ['FRO40251', 'SNA90094', 'DAI75645'], ['FRO40251', 'ELE74009', 'SNA80324'], ['FRO40251', 'ELE74009', 'DAI75645'], ['FRO40251', 'FRO85978', 'GRO73461'], ['FRO40251', 'DAI85309', 'DAI62779'], ['FRO40251', 'DAI85309', 'SNA80324'], ['FRO40251', 'DAI85309', 'DAI75645'], ['DAI88807', 'SNA72163', 'DAI62779'], ['DAI88807', 'SNA72163', 'GRO73461'], ['DAI88807', 'SNA72163', 'SNA59903'], ['DAI88807', 'SNA72163', 'ELE17451'], ['DAI88807', 'GRO73461', 'SNA72163'], ['DAI88807', 'SNA59903', 'DAI62779'], ['DAI88807', 'SNA59903', 'SNA72163'], ['DAI88807', 'SNA59903', 'ELE17451'], ['DAI88807', 'ELE17451', 'DAI62779'], ['DAI88807', 'ELE17451', 'SNA72163'], ['DAI88807', 'ELE17451', 'SNA59903'], ['GRO94758', 'SNA45677', 'ELE78169'], ['GRO94758', 'SNA45677', 'DAI62779'], ['GRO94758', 'SNA80324', 'DAI62779'], ['GRO94758', 'SNA80324', 'FRO40251'], ['GRO94758', 'SNA80324', 'DAI75645'], ['GRO94758', 'ELE99737', 'DAI85309'], ['GRO94758', 'DAI75645', 'FRO40251'], ['GRO94758', 'DAI75645', 'SNA80324'], ['GRO94758', 'GRO59710', 'ELE32164'], ['GRO94758', 'ELE32164', 'GRO59710'], ['GRO94758', 'ELE17451', 'DAI62779'], ['GRO94758', 'DAI85309', 'DAI62779'], ['GRO94758', 'DAI85309', 'ELE99737'], ['GRO81087', 'SNA80324', 'FRO40251'], ['GRO81087', 'SNA80324', 'DAI75645'], ['GRO81087', 'DAI75645', 'FRO40251'], ['GRO81087', 'DAI75645', 'SNA80324'], ['GRO81087', 'ELE92920', 'DAI62779'], ['GRO81087', 'ELE92920', 'SNA18336'], ['GRO81087', 'SNA18336', 'DAI62779'], ['GRO81087', 'SNA18336', 'ELE92920'], ['GRO81087', 'ELE17451', 'DAI62779'], ['SNA45677', 'SNA80324', 'DAI62779'], ['SNA45677', 'SNA80324', 'FRO40251'], ['SNA45677', 'SNA80324', 'DAI75645'], ['SNA45677', 'ELE99737', 'DAI85309'], ['SNA45677', 'GRO85051', 'FRO40251'], ['SNA45677', 'DAI75645', 'FRO40251'], ['SNA45677', 'DAI75645', 'SNA80324'], ['SNA45677', 'GRO59710', 'ELE32164'], ['SNA45677', 'ELE32164', 'GRO59710'], ['SNA45677', 'GRO73461', 'DAI62779'], ['SNA45677', 'ELE17451', 'DAI62779'], ['SNA45677', 'DAI85309', 'DAI62779'], ['SNA45677', 'DAI85309', 'ELE99737'], ['SNA72163', 'GRO73461', 'DAI88807'], ['SNA72163', 'SNA59903', 'DAI62779'], ['SNA72163', 'SNA59903', 'DAI88807'], ['SNA72163', 'SNA59903', 'ELE17451'], ['SNA72163', 'ELE17451', 'DAI62779'], ['SNA72163', 'ELE17451', 'DAI88807'], ['SNA72163', 'ELE17451', 'SNA59903'], ['GRO46854', 'DAI75645', 'GRO73461'], ['GRO46854', 'GRO73461', 'GRO21487'], ['GRO46854', 'GRO73461', 'DAI62779'], ['GRO46854', 'GRO73461', 'FRO40251'], ['GRO46854', 'GRO73461', 'DAI75645'], ['GRO46854', 'ELE17451', 'DAI62779'], ['GRO46854', 'DAI85309', 'DAI62779'], ['DAI43223', 'ELE92920', 'DAI62779'], ['DAI43223', 'GRO59710', 'DAI62779'], ['DAI43223', 'GRO59710', 'ELE32164'], ['DAI43223', 'GRO59710', 'ELE17451'], ['DAI43223', 'ELE32164', 'DAI62779'], ['DAI43223', 'ELE32164', 'GRO59710'], ['DAI43223', 'ELE32164', 'GRO73461'], ['DAI43223', 'ELE32164', 'ELE17451'], ['DAI43223', 'GRO73461', 'ELE32164'], ['DAI43223', 'ELE17451', 'DAI62779'], ['DAI43223', 'ELE17451', 'GRO59710'], ['DAI43223', 'ELE17451', 'ELE32164'], ['SNA80324', 'DAI31081', 'FRO40251'], ['SNA80324', 'GRO85051', 'DAI62779'], ['SNA80324', 'GRO85051', 'FRO40251'], ['SNA80324', 'GRO85051', 'DAI75645'], ['SNA80324', 'GRO85051', 'ELE17451'], ['SNA80324', 'DAI75645', 'SNA55762'], ['SNA80324', 'DAI75645', 'ELE26917'], ['SNA80324', 'DAI75645', 'GRO38814'], ['SNA80324', 'DAI75645', 'DAI55148'], ['SNA80324', 'DAI75645', 'DAI62779'], ['SNA80324', 'DAI75645', 'FRO40251'], ['SNA80324', 'DAI75645', 'GRO94758'], ['SNA80324', 'DAI75645', 'GRO81087'], ['SNA80324', 'DAI75645', 'SNA45677'], ['SNA80324', 'DAI75645', 'GRO85051'], ['SNA80324', 'DAI75645', 'FRO53271'], ['SNA80324', 'DAI75645', 'ELE20847'], ['SNA80324', 'DAI75645', 'GRO30386'], ['SNA80324', 'DAI75645', 'GRO73461'], ['SNA80324', 'DAI75645', 'FRO92469'], ['SNA80324', 'DAI75645', 'ELE17451'], ['SNA80324', 'DAI75645', 'ELE74009'], ['SNA80324', 'FRO53271', 'FRO40251'], ['SNA80324', 'FRO53271', 'DAI75645'], ['SNA80324', 'DAI83733', 'FRO40251'], ['SNA80324', 'ELE20847', 'DAI62779'], ['SNA80324', 'ELE20847', 'FRO40251'], ['SNA80324', 'ELE20847', 'DAI75645'], ['SNA80324', 'GRO30386', 'DAI62779'], ['SNA80324', 'GRO30386', 'FRO40251'], ['SNA80324', 'GRO30386', 'DAI75645'], ['SNA80324', 'GRO73461', 'DAI62779'], ['SNA80324', 'GRO73461', 'FRO40251'], ['SNA80324', 'GRO73461', 'DAI75645'], ['SNA80324', 'GRO73461', 'ELE17451'], ['SNA80324', 'GRO71621', 'DAI62779'], ['SNA80324', 'GRO71621', 'FRO40251'], ['SNA80324', 'FRO92469', 'DAI62779'], ['SNA80324', 'FRO92469', 'FRO40251'], ['SNA80324', 'FRO92469', 'DAI75645'], ['SNA80324', 'FRO80039', 'FRO40251'], ['SNA80324', 'ELE17451', 'DAI55148'], ['SNA80324', 'ELE17451', 'DAI62779'], ['SNA80324', 'ELE17451', 'FRO40251'], ['SNA80324', 'ELE17451', 'GRO85051'], ['SNA80324', 'ELE17451', 'DAI75645'], ['SNA80324', 'ELE17451', 'GRO73461'], ['SNA80324', 'ELE74009', 'FRO40251'], ['SNA80324', 'ELE74009', 'DAI75645'], ['SNA80324', 'DAI85309', 'FRO40251'], ['DAI55911', 'GRO85051', 'FRO40251'], ['SNA53220', 'SNA93860', 'DAI62779'], ['SNA53220', 'SNA93860', 'FRO19221'], ['SNA53220', 'FRO19221', 'DAI62779'], ['SNA53220', 'FRO19221', 'SNA93860'], ['DAI23334', 'ELE92920', 'DAI62779'], ['DAI23334', 'ELE17451', 'DAI62779'], ['ELE56788', 'ELE17451', 'DAI62779'], ['SNA95666', 'DAI63921', 'FRO85978'], ['SNA95666', 'FRO85978', 'DAI62779'], ['SNA95666', 'FRO85978', 'DAI63921'], ['ELE99737', 'FRO19221', 'DAI85309'], ['ELE99737', 'DAI85309', 'DAI62779'], ['ELE99737', 'DAI85309', 'GRO94758'], ['ELE99737', 'DAI85309', 'SNA45677'], ['ELE99737', 'DAI85309', 'FRO19221'], ['DAI31081', 'GRO85051', 'FRO40251'], ['DAI31081', 'DAI75645', 'FRO40251'], ['DAI31081', 'GRO59710', 'ELE32164'], ['DAI31081', 'ELE32164', 'GRO59710'], ['DAI31081', 'GRO73461', 'DAI62779'], ['DAI31081', 'ELE17451', 'DAI62779'], ['SNA93860', 'FRO19221', 'DAI62779'], ['SNA93860', 'FRO19221', 'SNA53220'], ['SNA93860', 'FRO85978', 'ELE59028'], ['SNA93860', 'FRO85978', 'DAI62779'], ['GRO85051', 'DAI75645', 'DAI62779'], ['GRO85051', 'DAI75645', 'FRO40251'], ['GRO85051', 'DAI75645', 'SNA80324'], ['GRO85051', 'DAI75645', 'ELE17451'], ['GRO85051', 'FRO53271', 'FRO40251'], ['GRO85051', 'DAI83948', 'FRO40251'], ['GRO85051', 'ELE20847', 'FRO40251'], ['GRO85051', 'GRO73461', 'FRO40251'], ['GRO85051', 'ELE17451', 'DAI62779'], ['GRO85051', 'ELE17451', 'FRO40251'], ['GRO85051', 'ELE17451', 'SNA80324'], ['GRO85051', 'ELE17451', 'DAI75645'], ['FRO78087', 'ELE17451', 'DAI62779'], ['DAI75645', 'ELE92920', 'DAI62779'], ['DAI75645', 'FRO53271', 'FRO40251'], ['DAI75645', 'FRO53271', 'SNA80324'], ['DAI75645', 'ELE20847', 'DAI62779'], ['DAI75645', 'ELE20847', 'FRO40251'], ['DAI75645', 'ELE20847', 'SNA80324'], ['DAI75645', 'GRO30386', 'DAI62779'], ['DAI75645', 'GRO30386', 'FRO40251'], ['DAI75645', 'GRO30386', 'SNA80324'], ['DAI75645', 'GRO30386', 'ELE17451'], ['DAI75645', 'GRO73461', 'GRO21487'], ['DAI75645', 'GRO73461', 'GRO38814'], ['DAI75645', 'GRO73461', 'FRO47962'], ['DAI75645', 'GRO73461', 'DAI62779'], ['DAI75645', 'GRO73461', 'FRO40251'], ['DAI75645', 'GRO73461', 'GRO46854'], ['DAI75645', 'GRO73461', 'SNA80324'], ['DAI75645', 'GRO73461', 'ELE17451'], ['DAI75645', 'GRO71621', 'FRO40251'], ['DAI75645', 'FRO92469', 'FRO40251'], ['DAI75645', 'FRO92469', 'SNA80324'], ['DAI75645', 'ELE17451', 'DAI55148'], ['DAI75645', 'ELE17451', 'DAI62779'], ['DAI75645', 'ELE17451', 'FRO40251'], ['DAI75645', 'ELE17451', 'SNA80324'], ['DAI75645', 'ELE17451', 'GRO85051'], ['DAI75645', 'ELE17451', 'GRO30386'], ['DAI75645', 'ELE17451', 'GRO73461'], ['DAI75645', 'SNA90094', 'FRO40251'], ['DAI75645', 'ELE74009', 'FRO40251'], ['DAI75645', 'ELE74009', 'SNA80324'], ['DAI75645', 'DAI85309', 'DAI62779'], ['DAI75645', 'DAI85309', 'FRO40251'], ['ELE92920', 'SNA18336', 'DAI62779'], ['ELE92920', 'SNA18336', 'FRO40251'], ['ELE92920', 'SNA18336', 'GRO81087'], ['ELE92920', 'SNA18336', 'ELE32164'], ['ELE92920', 'SNA18336', 'GRO15017'], ['ELE92920', 'SNA18336', 'DAI42493'], ['ELE92920', 'SNA18336', 'ELE17451'], ['ELE92920', 'SNA18336', 'DAI85309'], ['ELE92920', 'GRO59710', 'DAI62779'], ['ELE92920', 'DAI83733', 'DAI62779'], ['ELE92920', 'ELE32164', 'DAI62779'], ['ELE92920', 'ELE32164', 'SNA18336'], ['ELE92920', 'GRO15017', 'DAI62779'], ['ELE92920', 'GRO15017', 'SNA18336'], ['ELE92920', 'DAI42493', 'DAI62779'], ['ELE92920', 'DAI42493', 'SNA18336'], ['ELE92920', 'ELE17451', 'DAI62779'], ['ELE92920', 'ELE17451', 'SNA18336'], ['ELE92920', 'ELE17451', 'DAI85309'], ['ELE92920', 'ELE74009', 'DAI62779'], ['ELE92920', 'DAI85309', 'DAI62779'], ['ELE92920', 'DAI85309', 'SNA18336'], ['ELE92920', 'DAI85309', 'ELE17451'], ['DAI92600', 'SNA59903', 'DAI42083'], ['DAI92600', 'DAI42083', 'DAI62779'], ['DAI92600', 'DAI42083', 'SNA59903'], ['DAI92600', 'DAI42083', 'ELE17451'], ['DAI92600', 'ELE17451', 'DAI42083'], ['SNA18336', 'ELE32164', 'DAI62779'], ['SNA18336', 'ELE32164', 'ELE92920'], ['SNA18336', 'GRO15017', 'DAI62779'], ['SNA18336', 'GRO15017', 'ELE92920'], ['SNA18336', 'DAI42493', 'DAI62779'], ['SNA18336', 'DAI42493', 'ELE92920'], ['SNA18336', 'ELE17451', 'DAI62779'], ['SNA18336', 'ELE17451', 'ELE92920'], ['SNA18336', 'ELE17451', 'DAI85309'], ['SNA18336', 'DAI85309', 'DAI62779'], ['SNA18336', 'DAI85309', 'ELE92920'], ['SNA18336', 'DAI85309', 'ELE17451'], ['FRO53271', 'GRO59710', 'ELE32164'], ['FRO53271', 'ELE32164', 'GRO59710'], ['GRO59710', 'ELE32164', 'DAI62779'], ['GRO59710', 'ELE32164', 'GRO94758'], ['GRO59710', 'ELE32164', 'SNA45677'], ['GRO59710', 'ELE32164', 'DAI43223'], ['GRO59710', 'ELE32164', 'DAI31081'], ['GRO59710', 'ELE32164', 'FRO53271'], ['GRO59710', 'ELE32164', 'GRO73461'], ['GRO59710', 'ELE32164', 'DAI42493'], ['GRO59710', 'ELE32164', 'ELE17451'], ['GRO59710', 'ELE32164', 'ELE74009'], ['GRO59710', 'GRO30386', 'DAI62779'], ['GRO59710', 'GRO73461', 'DAI62779'], ['GRO59710', 'GRO73461', 'ELE32164'], ['GRO59710', 'DAI42493', 'ELE32164'], ['GRO59710', 'ELE17451', 'DAI62779'], ['GRO59710', 'ELE17451', 'DAI43223'], ['GRO59710', 'ELE17451', 'ELE32164'], ['GRO59710', 'ELE74009', 'ELE32164'], ['SNA99873', 'ELE17451', 'DAI62779'], ['DAI22896', 'GRO73461', 'DAI62779'], ['DAI83733', 'GRO73461', 'DAI62779'], ['DAI83733', 'ELE17451', 'DAI62779'], ['DAI83733', 'DAI85309', 'DAI62779'], ['ELE32164', 'GRO30386', 'DAI62779'], ['ELE32164', 'GRO73461', 'DAI62779'], ['ELE32164', 'GRO73461', 'DAI43223'], ['ELE32164', 'GRO73461', 'GRO59710'], ['ELE32164', 'DAI42493', 'DAI62779'], ['ELE32164', 'DAI42493', 'GRO59710'], ['ELE32164', 'ELE17451', 'DAI62779'], ['ELE32164', 'ELE17451', 'DAI43223'], ['ELE32164', 'ELE17451', 'GRO59710'], ['ELE32164', 'ELE74009', 'GRO59710'], ['ELE32164', 'DAI85309', 'DAI62779'], ['GRO15017', 'GRO73461', 'DAI62779'], ['GRO15017', 'ELE17451', 'DAI62779'], ['ELE20847', 'FRO92469', 'FRO40251'], ['ELE20847', 'ELE17451', 'DAI62779'], ['GRO30386', 'GRO73461', 'DAI62779'], ['GRO30386', 'GRO73461', 'ELE17451'], ['GRO30386', 'ELE17451', 'DAI62779'], ['GRO30386', 'ELE17451', 'DAI75645'], ['GRO30386', 'ELE17451', 'GRO73461'], ['GRO73461', 'FRO31317', 'DAI62779'], ['GRO73461', 'GRO69543', 'FRO40251'], ['GRO73461', 'GRO71621', 'DAI62779'], ['GRO73461', 'FRO92469', 'FRO40251'], ['GRO73461', 'FRO73056', 'GRO44993'], ['GRO73461', 'FRO19221', 'DAI62779'], ['GRO73461', 'ELE17451', 'DAI62779'], ['GRO73461', 'ELE17451', 'FRO40251'], ['GRO73461', 'ELE17451', 'SNA80324'], ['GRO73461', 'ELE17451', 'DAI75645'], ['GRO73461', 'ELE17451', 'GRO30386'], ['GRO73461', 'ELE17451', 'DAI85309'], ['GRO73461', 'GRO44993', 'FRO73056'], ['GRO73461', 'FRO85978', 'DAI62779'], ['GRO73461', 'FRO85978', 'FRO40251'], ['GRO73461', 'DAI85309', 'DAI62779'], ['GRO73461', 'DAI85309', 'ELE17451'], ['FRO31317', 'ELE17451', 'DAI62779'], ['SNA59903', 'DAI42083', 'DAI92600'], ['SNA59903', 'ELE17451', 'DAI62779'], ['SNA59903', 'ELE17451', 'DAI88807'], ['SNA59903', 'ELE17451', 'SNA72163'], ['DAI42083', 'ELE17451', 'DAI92600'], ['DAI42493', 'ELE17451', 'DAI62779'], ['DAI91290', 'ELE17451', 'DAI62779'], ['GRO71621', 'ELE17451', 'DAI62779'], ['GRO71621', 'DAI85309', 'DAI62779'], ['FRO92469', 'ELE17451', 'DAI62779'], ['FRO92469', 'ELE17451', 'FRO40251'], ['FRO80039', 'ELE17451', 'DAI62779'], ['FRO73056', 'GRO44993', 'GRO73461'], ['FRO19221', 'DAI85309', 'DAI62779'], ['FRO19221', 'DAI85309', 'ELE99737'], ['ELE17451', 'SNA90094', 'DAI62779'], ['ELE17451', 'ELE74009', 'DAI62779'], ['ELE17451', 'DAI85309', 'DAI62779'], ['ELE17451', 'DAI85309', 'ELE92920'], ['ELE17451', 'DAI85309', 'SNA18336'], ['ELE17451', 'DAI85309', 'GRO73461'], ['ELE17451', 'SNA38068', 'DAI62779'], ['DAI63921', 'FRO85978', 'SNA95666']]\n"
     ]
    }
   ],
   "source": [
    "#len(f3)\n",
    "#print(f3)"
   ]
  },
  {
   "cell_type": "code",
   "execution_count": null,
   "metadata": {},
   "outputs": [],
   "source": [
    "# merging lists"
   ]
  },
  {
   "cell_type": "code",
   "execution_count": null,
   "metadata": {},
   "outputs": [],
   "source": []
  },
  {
   "cell_type": "markdown",
   "metadata": {},
   "source": [
    "# Modified Apriori"
   ]
  },
  {
   "cell_type": "code",
   "execution_count": 704,
   "metadata": {},
   "outputs": [],
   "source": [
    "def ModifiedApriori(unique1,lists,N,minsup):\n",
    "    fre = []\n",
    "    minsup = minsup/100\n",
    "    size = len(lists)\n",
    "    f1 = []\n",
    "    ###################### frequent set 1 generation\n",
    "    for i in range(0,len(unique1)):\n",
    "        count = 0\n",
    "        for r in range(0,len(lists)):\n",
    "            for c in range(0,len(lists[r])):\n",
    "                if unique1[i] == lists[r][c]:\n",
    "                    count = count + 1\n",
    "                    break\n",
    "        if count/size >= minsup:\n",
    "            f1.append(unique1[i])       #f1 has all 1-frequent item sets\n",
    "    \n",
    "    ###candidate set 2 generation\n",
    "    f2_combi=[]\n",
    "    #Getting all combination of a particular length.\n",
    "    combi_2 = combinations(f1, 2)\n",
    "    for c in list(combi_2):\n",
    "        f2_combi.append(list(c))\n",
    "        \n",
    "    ###frequent set 2 generation\n",
    "    f2_freq = frequent(minsup,f2_combi,lists)\n",
    "    freq = f2_freq.copy()\n",
    "    for k in range(3,N+1):\n",
    "        #candidate set generation\n",
    "        candi = candidate(freq,f1)\n",
    "        freq = frequent(minsup,candi,lists)\n",
    "        fre.append(freq)\n",
    "        \n",
    "    return f1,f2,fre\n",
    "\n",
    "def frequent(minsup,c_list,lists):\n",
    "    minsup = minsup/100\n",
    "    size = len(lists)\n",
    "    f_set = []\n",
    "    for i in range(len(c_list)): # i = 0,1,2\n",
    "        count1 = 0\n",
    "        for j in range(len(lists)): # j = 0,1\n",
    "            results =  all(elem in lists[j]  for elem in c_list[i])\n",
    "            if results:\n",
    "                count1 = count1 + 1 \n",
    "        if count1/size >= minsup:\n",
    "            f_set.append(c_list[i])\n",
    "    return f_set\n",
    "    \n",
    "\n",
    "def candidate(f2_freq,f1):\n",
    "    f_list = []\n",
    "    sub = []\n",
    "    for i in range(0,len(f2_freq)):\n",
    "        for j in range(0,len(f1)):\n",
    "            sub = f2_freq[i].copy()\n",
    "            results1 =  all(elem in f2_freq[i]  for elem in f1[j]) \n",
    "            if results1 == False:\n",
    "                sub.append(f1[j])\n",
    "                f_list.append(sub)    \n",
    "    return f_list"
   ]
  },
  {
   "cell_type": "code",
   "execution_count": null,
   "metadata": {},
   "outputs": [],
   "source": [
    "N = 3\n",
    "minsup = 0.3\n",
    "f1 = []\n",
    "f2 = []\n",
    "f_rest = []\n",
    "f1, f2, f_rest = ModifiedApriori(unique1,lists,N,minsup)"
   ]
  },
  {
   "cell_type": "markdown",
   "metadata": {},
   "source": [
    "# Converting f1 set to list of lists"
   ]
  },
  {
   "cell_type": "code",
   "execution_count": 451,
   "metadata": {},
   "outputs": [],
   "source": [
    "f11 = f1.copy()\n",
    "freq1 = [[x] for x in f11]\n",
    "type(freq1)\n"
   ]
  },
  {
   "cell_type": "markdown",
   "metadata": {},
   "source": [
    "# Merging all frequent sets into one "
   ]
  },
  {
   "cell_type": "code",
   "execution_count": 462,
   "metadata": {},
   "outputs": [],
   "source": [
    "#merging lists of frequent itemsets into a single\n",
    "def merge(list_fre, new):\n",
    "    return (list_fre + new)"
   ]
  },
  {
   "cell_type": "code",
   "execution_count": 463,
   "metadata": {},
   "outputs": [],
   "source": [
    "freq_final = merge(freq1,f2)\n",
    "freq_final = merge(freq_final,f3)"
   ]
  },
  {
   "cell_type": "code",
   "execution_count": 1,
   "metadata": {
    "scrolled": true
   },
   "outputs": [],
   "source": [
    "#print(freq_final)"
   ]
  },
  {
   "cell_type": "markdown",
   "metadata": {},
   "source": [
    "# Rule Generation"
   ]
  },
  {
   "cell_type": "code",
   "execution_count": 466,
   "metadata": {},
   "outputs": [
    {
     "data": {
      "text/plain": [
       "3021"
      ]
     },
     "execution_count": 466,
     "metadata": {},
     "output_type": "execute_result"
    }
   ],
   "source": [
    "#len(f1) + len(f2) + len(f3)"
   ]
  },
  {
   "cell_type": "code",
   "execution_count": 639,
   "metadata": {
    "scrolled": true
   },
   "outputs": [
    {
     "name": "stdout",
     "output_type": "stream",
     "text": [
      "[['SNA11790'], ['DAI69156', 'ELE17451'], ['GRO56726', 'FRO40251', 'GRO73461'], ['FRO47796'], ['SNA20554', 'DAI62779'], ['GRO56726', 'GRO73461', 'FRO40251'], ['DAI69156'], ['SNA20554', 'SNA45677'], ['ELE59028', 'DAI62779', 'SNA93860'], ['ELE58409'], ['SNA55952', 'DAI62779'], ['ELE59028', 'DAI62779', 'FRO85978'], ['FRO41069'], ['SNA55952', 'FRO40251'], ['ELE59028', 'SNA93860', 'DAI62779']]\n"
     ]
    }
   ],
   "source": [
    "#small freqent set\n",
    "small_feq = []\n",
    "for i in range(0,5):\n",
    "    #print(i)\n",
    "    small_feq.append(freq1[i])\n",
    "    small_feq.append(f2[i])\n",
    "    small_feq.append(f3[i])\n",
    "print(small_feq)"
   ]
  },
  {
   "cell_type": "code",
   "execution_count": 690,
   "metadata": {},
   "outputs": [],
   "source": [
    "def RuleGeneration(small_feq,lists,K):\n",
    "    df = pd.DataFrame(columns=['LHS','RHS','Confidence'])\n",
    "    for i in range(len(small_feq)): # frequent itemset length 0 t0 3020 #0\n",
    "        for j in range(i+1, len(small_feq)): #1\n",
    "            x = []\n",
    "            merg = small_feq[i] + small_feq[j] #all elements of two lists # merge 0,1\n",
    "            merg = list(dict.fromkeys(merg))\n",
    "            support_c = sup_count(lists,merg)  ###### function call #support count of merge ithat is 0 U 1\n",
    "            x = combins(merg)\n",
    "            df = comparision(merg,x,df,lists,support_c)\n",
    "    df = df.head(K)       \n",
    "    return df \n",
    "\n",
    "def combins(merg):\n",
    "    x = []\n",
    "    for com in range(1,len(merg)):\n",
    "        combis = combinations(merg,com)\n",
    "        for e in list(combis):\n",
    "            x.append(list(e))\n",
    "    return x # list of lists / possible rules\n",
    "\n",
    "def comparision(merg,x,df,lists,support_c):\n",
    "    for i in range(len(x)):\n",
    "        resultant = list(set(merg) - set(x[i])) #result gives RHS value rule(x[i] -> resultant)\n",
    "        #sup_c = sup_count(lists,x[i])\n",
    "        sc = sup_count(lists,x[i])\n",
    "        if sc != 0:\n",
    "            confi = support_c / sc\n",
    "            df2 = {'LHS': x[i], 'RHS': resultant , 'Confidence': confi}\n",
    "            df = df.append(df2, ignore_index=True)\n",
    "        #print(x[i])\n",
    "        #print(resultant)\n",
    "    return df\n",
    "    \n",
    "def sup_count(lists,merg):\n",
    "    count1 = 0\n",
    "    for m in range(len(lists)): # j = 0,1\n",
    "        results =  all(elem in lists[m]  for elem in merg)\n",
    "        if results:\n",
    "            count1 = count1 + 1 \n",
    "    return count1"
   ]
  },
  {
   "cell_type": "code",
   "execution_count": 699,
   "metadata": {
    "scrolled": true
   },
   "outputs": [
    {
     "name": "stdout",
     "output_type": "stream",
     "text": [
      "                                           LHS                   RHS  \\\n",
      "0                                   [SNA11790]  [ELE17451, DAI69156]   \n",
      "1                                   [DAI69156]  [ELE17451, SNA11790]   \n",
      "2                                   [ELE17451]  [SNA11790, DAI69156]   \n",
      "3                         [SNA11790, ELE17451]            [DAI69156]   \n",
      "4                         [DAI69156, ELE17451]            [SNA11790]   \n",
      "...                                        ...                   ...   \n",
      "1573            [FRO40251, SNA93860, DAI62779]  [SNA55952, ELE59028]   \n",
      "1574            [ELE59028, SNA93860, DAI62779]  [FRO40251, SNA55952]   \n",
      "1575  [SNA55952, FRO40251, SNA93860, DAI62779]            [ELE59028]   \n",
      "1576  [SNA55952, ELE59028, SNA93860, DAI62779]            [FRO40251]   \n",
      "1577  [FRO40251, ELE59028, SNA93860, DAI62779]            [SNA55952]   \n",
      "\n",
      "      Confidence  \n",
      "0            0.0  \n",
      "1            0.0  \n",
      "2            0.0  \n",
      "3            0.0  \n",
      "4            0.0  \n",
      "...          ...  \n",
      "1573         0.0  \n",
      "1574         0.0  \n",
      "1575         0.0  \n",
      "1576         0.0  \n",
      "1577         0.0  \n",
      "\n",
      "[1578 rows x 3 columns]\n"
     ]
    }
   ],
   "source": [
    "K = 5\n",
    "df = RuleGeneration(small_feq,lists,K)\n",
    "#print(df)\n"
   ]
  },
  {
   "cell_type": "code",
   "execution_count": 706,
   "metadata": {},
   "outputs": [],
   "source": [
    "df.sort_values(by=['Confidence'], inplace=True, ascending=False)"
   ]
  },
  {
   "cell_type": "code",
   "execution_count": 707,
   "metadata": {
    "scrolled": false
   },
   "outputs": [
    {
     "data": {
      "text/html": [
       "<div>\n",
       "<style scoped>\n",
       "    .dataframe tbody tr th:only-of-type {\n",
       "        vertical-align: middle;\n",
       "    }\n",
       "\n",
       "    .dataframe tbody tr th {\n",
       "        vertical-align: top;\n",
       "    }\n",
       "\n",
       "    .dataframe thead th {\n",
       "        text-align: right;\n",
       "    }\n",
       "</style>\n",
       "<table border=\"1\" class=\"dataframe\">\n",
       "  <thead>\n",
       "    <tr style=\"text-align: right;\">\n",
       "      <th></th>\n",
       "      <th>LHS</th>\n",
       "      <th>RHS</th>\n",
       "      <th>Confidence</th>\n",
       "    </tr>\n",
       "  </thead>\n",
       "  <tbody>\n",
       "    <tr>\n",
       "      <th>503</th>\n",
       "      <td>[GRO56726, GRO73461, SNA55952, DAI62779]</td>\n",
       "      <td>[FRO40251]</td>\n",
       "      <td>1.000000</td>\n",
       "    </tr>\n",
       "    <tr>\n",
       "      <th>668</th>\n",
       "      <td>[FRO47796, GRO56726, FRO40251]</td>\n",
       "      <td>[GRO73461]</td>\n",
       "      <td>1.000000</td>\n",
       "    </tr>\n",
       "    <tr>\n",
       "      <th>983</th>\n",
       "      <td>[GRO56726, GRO73461, SNA55952, DAI62779]</td>\n",
       "      <td>[FRO40251]</td>\n",
       "      <td>1.000000</td>\n",
       "    </tr>\n",
       "    <tr>\n",
       "      <th>1171</th>\n",
       "      <td>[DAI69156, ELE59028, FRO85978]</td>\n",
       "      <td>[DAI62779]</td>\n",
       "      <td>1.000000</td>\n",
       "    </tr>\n",
       "    <tr>\n",
       "      <th>220</th>\n",
       "      <td>[DAI69156, ELE58409]</td>\n",
       "      <td>[ELE17451]</td>\n",
       "      <td>1.000000</td>\n",
       "    </tr>\n",
       "    <tr>\n",
       "      <th>1547</th>\n",
       "      <td>[FRO41069, ELE59028, SNA93860]</td>\n",
       "      <td>[DAI62779]</td>\n",
       "      <td>1.000000</td>\n",
       "    </tr>\n",
       "    <tr>\n",
       "      <th>667</th>\n",
       "      <td>[FRO47796, GRO56726, GRO73461]</td>\n",
       "      <td>[FRO40251]</td>\n",
       "      <td>1.000000</td>\n",
       "    </tr>\n",
       "    <tr>\n",
       "      <th>1363</th>\n",
       "      <td>[ELE59028, SNA93860, FRO41069]</td>\n",
       "      <td>[DAI62779]</td>\n",
       "      <td>1.000000</td>\n",
       "    </tr>\n",
       "    <tr>\n",
       "      <th>322</th>\n",
       "      <td>[GRO56726, GRO73461, FRO47796]</td>\n",
       "      <td>[FRO40251]</td>\n",
       "      <td>1.000000</td>\n",
       "    </tr>\n",
       "    <tr>\n",
       "      <th>321</th>\n",
       "      <td>[GRO56726, FRO40251, FRO47796]</td>\n",
       "      <td>[GRO73461]</td>\n",
       "      <td>1.000000</td>\n",
       "    </tr>\n",
       "    <tr>\n",
       "      <th>1349</th>\n",
       "      <td>[ELE59028, SNA93860, FRO85978]</td>\n",
       "      <td>[DAI62779]</td>\n",
       "      <td>0.967213</td>\n",
       "    </tr>\n",
       "    <tr>\n",
       "      <th>1529</th>\n",
       "      <td>[ELE59028, FRO85978, SNA93860]</td>\n",
       "      <td>[DAI62779]</td>\n",
       "      <td>0.967213</td>\n",
       "    </tr>\n",
       "    <tr>\n",
       "      <th>1450</th>\n",
       "      <td>[SNA55952, ELE59028, FRO85978]</td>\n",
       "      <td>[DAI62779]</td>\n",
       "      <td>0.875000</td>\n",
       "    </tr>\n",
       "    <tr>\n",
       "      <th>1396</th>\n",
       "      <td>[ELE59028, SNA93860]</td>\n",
       "      <td>[DAI62779]</td>\n",
       "      <td>0.857143</td>\n",
       "    </tr>\n",
       "    <tr>\n",
       "      <th>1528</th>\n",
       "      <td>[ELE59028, DAI62779, SNA93860]</td>\n",
       "      <td>[FRO85978]</td>\n",
       "      <td>0.855072</td>\n",
       "    </tr>\n",
       "    <tr>\n",
       "      <th>1347</th>\n",
       "      <td>[ELE59028, DAI62779, SNA93860]</td>\n",
       "      <td>[FRO85978]</td>\n",
       "      <td>0.855072</td>\n",
       "    </tr>\n",
       "    <tr>\n",
       "      <th>1071</th>\n",
       "      <td>[GRO56726, FRO40251, SNA55952]</td>\n",
       "      <td>[GRO73461]</td>\n",
       "      <td>0.833333</td>\n",
       "    </tr>\n",
       "    <tr>\n",
       "      <th>589</th>\n",
       "      <td>[GRO56726, FRO40251, SNA55952]</td>\n",
       "      <td>[GRO73461]</td>\n",
       "      <td>0.833333</td>\n",
       "    </tr>\n",
       "    <tr>\n",
       "      <th>1527</th>\n",
       "      <td>[ELE59028, DAI62779, FRO85978]</td>\n",
       "      <td>[SNA93860]</td>\n",
       "      <td>0.808219</td>\n",
       "    </tr>\n",
       "    <tr>\n",
       "      <th>1348</th>\n",
       "      <td>[ELE59028, DAI62779, FRO85978]</td>\n",
       "      <td>[SNA93860]</td>\n",
       "      <td>0.808219</td>\n",
       "    </tr>\n",
       "    <tr>\n",
       "      <th>1530</th>\n",
       "      <td>[DAI62779, FRO85978, SNA93860]</td>\n",
       "      <td>[ELE59028]</td>\n",
       "      <td>0.756410</td>\n",
       "    </tr>\n",
       "    <tr>\n",
       "      <th>1350</th>\n",
       "      <td>[DAI62779, SNA93860, FRO85978]</td>\n",
       "      <td>[ELE59028]</td>\n",
       "      <td>0.756410</td>\n",
       "    </tr>\n",
       "    <tr>\n",
       "      <th>676</th>\n",
       "      <td>[FRO47796, SNA20554]</td>\n",
       "      <td>[SNA45677]</td>\n",
       "      <td>0.750000</td>\n",
       "    </tr>\n",
       "    <tr>\n",
       "      <th>1342</th>\n",
       "      <td>[ELE59028, SNA93860]</td>\n",
       "      <td>[DAI62779, FRO85978]</td>\n",
       "      <td>0.732919</td>\n",
       "    </tr>\n",
       "    <tr>\n",
       "      <th>1523</th>\n",
       "      <td>[ELE59028, SNA93860]</td>\n",
       "      <td>[DAI62779, FRO85978]</td>\n",
       "      <td>0.732919</td>\n",
       "    </tr>\n",
       "    <tr>\n",
       "      <th>1343</th>\n",
       "      <td>[ELE59028, FRO85978]</td>\n",
       "      <td>[DAI62779, SNA93860]</td>\n",
       "      <td>0.706587</td>\n",
       "    </tr>\n",
       "    <tr>\n",
       "      <th>1522</th>\n",
       "      <td>[ELE59028, FRO85978]</td>\n",
       "      <td>[DAI62779, SNA93860]</td>\n",
       "      <td>0.706587</td>\n",
       "    </tr>\n",
       "    <tr>\n",
       "      <th>1192</th>\n",
       "      <td>[DAI69156, ELE59028, SNA93860]</td>\n",
       "      <td>[DAI62779]</td>\n",
       "      <td>0.666667</td>\n",
       "    </tr>\n",
       "    <tr>\n",
       "      <th>1194</th>\n",
       "      <td>[DAI69156, SNA93860, DAI62779]</td>\n",
       "      <td>[ELE59028]</td>\n",
       "      <td>0.666667</td>\n",
       "    </tr>\n",
       "    <tr>\n",
       "      <th>1149</th>\n",
       "      <td>[DAI69156, ELE59028, SNA93860]</td>\n",
       "      <td>[DAI62779]</td>\n",
       "      <td>0.666667</td>\n",
       "    </tr>\n",
       "    <tr>\n",
       "      <th>1150</th>\n",
       "      <td>[DAI69156, DAI62779, SNA93860]</td>\n",
       "      <td>[ELE59028]</td>\n",
       "      <td>0.666667</td>\n",
       "    </tr>\n",
       "    <tr>\n",
       "      <th>38</th>\n",
       "      <td>[SNA11790, GRO56726, FRO40251]</td>\n",
       "      <td>[GRO73461]</td>\n",
       "      <td>0.666667</td>\n",
       "    </tr>\n",
       "    <tr>\n",
       "      <th>1476</th>\n",
       "      <td>[SNA55952, ELE59028, SNA93860]</td>\n",
       "      <td>[DAI62779]</td>\n",
       "      <td>0.666667</td>\n",
       "    </tr>\n",
       "    <tr>\n",
       "      <th>1335</th>\n",
       "      <td>[ELE59028, SNA93860, SNA55952]</td>\n",
       "      <td>[DAI62779]</td>\n",
       "      <td>0.666667</td>\n",
       "    </tr>\n",
       "    <tr>\n",
       "      <th>15</th>\n",
       "      <td>[SNA11790, GRO56726, FRO40251]</td>\n",
       "      <td>[GRO73461]</td>\n",
       "      <td>0.666667</td>\n",
       "    </tr>\n",
       "    <tr>\n",
       "      <th>1284</th>\n",
       "      <td>[SNA20554, SNA55952, FRO40251]</td>\n",
       "      <td>[SNA45677]</td>\n",
       "      <td>0.666667</td>\n",
       "    </tr>\n",
       "    <tr>\n",
       "      <th>1448</th>\n",
       "      <td>[SNA55952, DAI62779, ELE59028]</td>\n",
       "      <td>[FRO85978]</td>\n",
       "      <td>0.636364</td>\n",
       "    </tr>\n",
       "    <tr>\n",
       "      <th>590</th>\n",
       "      <td>[GRO56726, GRO73461, SNA55952]</td>\n",
       "      <td>[FRO40251]</td>\n",
       "      <td>0.625000</td>\n",
       "    </tr>\n",
       "    <tr>\n",
       "      <th>1070</th>\n",
       "      <td>[GRO56726, GRO73461, SNA55952]</td>\n",
       "      <td>[FRO40251]</td>\n",
       "      <td>0.625000</td>\n",
       "    </tr>\n",
       "    <tr>\n",
       "      <th>1179</th>\n",
       "      <td>[DAI69156, SNA55952]</td>\n",
       "      <td>[FRO40251]</td>\n",
       "      <td>0.555556</td>\n",
       "    </tr>\n",
       "    <tr>\n",
       "      <th>84</th>\n",
       "      <td>[SNA11790, SNA55952]</td>\n",
       "      <td>[FRO40251]</td>\n",
       "      <td>0.500000</td>\n",
       "    </tr>\n",
       "    <tr>\n",
       "      <th>65</th>\n",
       "      <td>[SNA11790, SNA55952]</td>\n",
       "      <td>[DAI62779]</td>\n",
       "      <td>0.500000</td>\n",
       "    </tr>\n",
       "    <tr>\n",
       "      <th>1362</th>\n",
       "      <td>[ELE59028, DAI62779, FRO41069]</td>\n",
       "      <td>[SNA93860]</td>\n",
       "      <td>0.500000</td>\n",
       "    </tr>\n",
       "    <tr>\n",
       "      <th>1548</th>\n",
       "      <td>[FRO41069, ELE59028, DAI62779]</td>\n",
       "      <td>[SNA93860]</td>\n",
       "      <td>0.500000</td>\n",
       "    </tr>\n",
       "    <tr>\n",
       "      <th>984</th>\n",
       "      <td>[GRO56726, FRO40251, SNA55952, DAI62779]</td>\n",
       "      <td>[GRO73461]</td>\n",
       "      <td>0.500000</td>\n",
       "    </tr>\n",
       "    <tr>\n",
       "      <th>397</th>\n",
       "      <td>[GRO56726, FRO40251, GRO73461, SNA20554]</td>\n",
       "      <td>[SNA45677]</td>\n",
       "      <td>0.500000</td>\n",
       "    </tr>\n",
       "    <tr>\n",
       "      <th>400</th>\n",
       "      <td>[GRO56726, GRO73461, SNA20554, SNA45677]</td>\n",
       "      <td>[FRO40251]</td>\n",
       "      <td>0.500000</td>\n",
       "    </tr>\n",
       "    <tr>\n",
       "      <th>502</th>\n",
       "      <td>[GRO56726, FRO40251, SNA55952, DAI62779]</td>\n",
       "      <td>[GRO73461]</td>\n",
       "      <td>0.500000</td>\n",
       "    </tr>\n",
       "    <tr>\n",
       "      <th>878</th>\n",
       "      <td>[GRO56726, GRO73461, FRO40251, SNA20554]</td>\n",
       "      <td>[SNA45677]</td>\n",
       "      <td>0.500000</td>\n",
       "    </tr>\n",
       "    <tr>\n",
       "      <th>880</th>\n",
       "      <td>[GRO56726, GRO73461, SNA20554, SNA45677]</td>\n",
       "      <td>[FRO40251]</td>\n",
       "      <td>0.500000</td>\n",
       "    </tr>\n",
       "  </tbody>\n",
       "</table>\n",
       "</div>"
      ],
      "text/plain": [
       "                                           LHS                   RHS  \\\n",
       "503   [GRO56726, GRO73461, SNA55952, DAI62779]            [FRO40251]   \n",
       "668             [FRO47796, GRO56726, FRO40251]            [GRO73461]   \n",
       "983   [GRO56726, GRO73461, SNA55952, DAI62779]            [FRO40251]   \n",
       "1171            [DAI69156, ELE59028, FRO85978]            [DAI62779]   \n",
       "220                       [DAI69156, ELE58409]            [ELE17451]   \n",
       "1547            [FRO41069, ELE59028, SNA93860]            [DAI62779]   \n",
       "667             [FRO47796, GRO56726, GRO73461]            [FRO40251]   \n",
       "1363            [ELE59028, SNA93860, FRO41069]            [DAI62779]   \n",
       "322             [GRO56726, GRO73461, FRO47796]            [FRO40251]   \n",
       "321             [GRO56726, FRO40251, FRO47796]            [GRO73461]   \n",
       "1349            [ELE59028, SNA93860, FRO85978]            [DAI62779]   \n",
       "1529            [ELE59028, FRO85978, SNA93860]            [DAI62779]   \n",
       "1450            [SNA55952, ELE59028, FRO85978]            [DAI62779]   \n",
       "1396                      [ELE59028, SNA93860]            [DAI62779]   \n",
       "1528            [ELE59028, DAI62779, SNA93860]            [FRO85978]   \n",
       "1347            [ELE59028, DAI62779, SNA93860]            [FRO85978]   \n",
       "1071            [GRO56726, FRO40251, SNA55952]            [GRO73461]   \n",
       "589             [GRO56726, FRO40251, SNA55952]            [GRO73461]   \n",
       "1527            [ELE59028, DAI62779, FRO85978]            [SNA93860]   \n",
       "1348            [ELE59028, DAI62779, FRO85978]            [SNA93860]   \n",
       "1530            [DAI62779, FRO85978, SNA93860]            [ELE59028]   \n",
       "1350            [DAI62779, SNA93860, FRO85978]            [ELE59028]   \n",
       "676                       [FRO47796, SNA20554]            [SNA45677]   \n",
       "1342                      [ELE59028, SNA93860]  [DAI62779, FRO85978]   \n",
       "1523                      [ELE59028, SNA93860]  [DAI62779, FRO85978]   \n",
       "1343                      [ELE59028, FRO85978]  [DAI62779, SNA93860]   \n",
       "1522                      [ELE59028, FRO85978]  [DAI62779, SNA93860]   \n",
       "1192            [DAI69156, ELE59028, SNA93860]            [DAI62779]   \n",
       "1194            [DAI69156, SNA93860, DAI62779]            [ELE59028]   \n",
       "1149            [DAI69156, ELE59028, SNA93860]            [DAI62779]   \n",
       "1150            [DAI69156, DAI62779, SNA93860]            [ELE59028]   \n",
       "38              [SNA11790, GRO56726, FRO40251]            [GRO73461]   \n",
       "1476            [SNA55952, ELE59028, SNA93860]            [DAI62779]   \n",
       "1335            [ELE59028, SNA93860, SNA55952]            [DAI62779]   \n",
       "15              [SNA11790, GRO56726, FRO40251]            [GRO73461]   \n",
       "1284            [SNA20554, SNA55952, FRO40251]            [SNA45677]   \n",
       "1448            [SNA55952, DAI62779, ELE59028]            [FRO85978]   \n",
       "590             [GRO56726, GRO73461, SNA55952]            [FRO40251]   \n",
       "1070            [GRO56726, GRO73461, SNA55952]            [FRO40251]   \n",
       "1179                      [DAI69156, SNA55952]            [FRO40251]   \n",
       "84                        [SNA11790, SNA55952]            [FRO40251]   \n",
       "65                        [SNA11790, SNA55952]            [DAI62779]   \n",
       "1362            [ELE59028, DAI62779, FRO41069]            [SNA93860]   \n",
       "1548            [FRO41069, ELE59028, DAI62779]            [SNA93860]   \n",
       "984   [GRO56726, FRO40251, SNA55952, DAI62779]            [GRO73461]   \n",
       "397   [GRO56726, FRO40251, GRO73461, SNA20554]            [SNA45677]   \n",
       "400   [GRO56726, GRO73461, SNA20554, SNA45677]            [FRO40251]   \n",
       "502   [GRO56726, FRO40251, SNA55952, DAI62779]            [GRO73461]   \n",
       "878   [GRO56726, GRO73461, FRO40251, SNA20554]            [SNA45677]   \n",
       "880   [GRO56726, GRO73461, SNA20554, SNA45677]            [FRO40251]   \n",
       "\n",
       "      Confidence  \n",
       "503     1.000000  \n",
       "668     1.000000  \n",
       "983     1.000000  \n",
       "1171    1.000000  \n",
       "220     1.000000  \n",
       "1547    1.000000  \n",
       "667     1.000000  \n",
       "1363    1.000000  \n",
       "322     1.000000  \n",
       "321     1.000000  \n",
       "1349    0.967213  \n",
       "1529    0.967213  \n",
       "1450    0.875000  \n",
       "1396    0.857143  \n",
       "1528    0.855072  \n",
       "1347    0.855072  \n",
       "1071    0.833333  \n",
       "589     0.833333  \n",
       "1527    0.808219  \n",
       "1348    0.808219  \n",
       "1530    0.756410  \n",
       "1350    0.756410  \n",
       "676     0.750000  \n",
       "1342    0.732919  \n",
       "1523    0.732919  \n",
       "1343    0.706587  \n",
       "1522    0.706587  \n",
       "1192    0.666667  \n",
       "1194    0.666667  \n",
       "1149    0.666667  \n",
       "1150    0.666667  \n",
       "38      0.666667  \n",
       "1476    0.666667  \n",
       "1335    0.666667  \n",
       "15      0.666667  \n",
       "1284    0.666667  \n",
       "1448    0.636364  \n",
       "590     0.625000  \n",
       "1070    0.625000  \n",
       "1179    0.555556  \n",
       "84      0.500000  \n",
       "65      0.500000  \n",
       "1362    0.500000  \n",
       "1548    0.500000  \n",
       "984     0.500000  \n",
       "397     0.500000  \n",
       "400     0.500000  \n",
       "502     0.500000  \n",
       "878     0.500000  \n",
       "880     0.500000  "
      ]
     },
     "execution_count": 707,
     "metadata": {},
     "output_type": "execute_result"
    }
   ],
   "source": [
    "df.head(50)"
   ]
  },
  {
   "cell_type": "code",
   "execution_count": 719,
   "metadata": {},
   "outputs": [],
   "source": [
    "#df = df.drop_duplicates()"
   ]
  },
  {
   "cell_type": "code",
   "execution_count": 718,
   "metadata": {
    "scrolled": true
   },
   "outputs": [
    {
     "data": {
      "text/html": [
       "<div>\n",
       "<style scoped>\n",
       "    .dataframe tbody tr th:only-of-type {\n",
       "        vertical-align: middle;\n",
       "    }\n",
       "\n",
       "    .dataframe tbody tr th {\n",
       "        vertical-align: top;\n",
       "    }\n",
       "\n",
       "    .dataframe thead th {\n",
       "        text-align: right;\n",
       "    }\n",
       "</style>\n",
       "<table border=\"1\" class=\"dataframe\">\n",
       "  <thead>\n",
       "    <tr style=\"text-align: right;\">\n",
       "      <th></th>\n",
       "      <th>LHS</th>\n",
       "      <th>RHS</th>\n",
       "      <th>Confidence</th>\n",
       "    </tr>\n",
       "  </thead>\n",
       "  <tbody>\n",
       "    <tr>\n",
       "      <th>503</th>\n",
       "      <td>[GRO56726, GRO73461, SNA55952, DAI62779]</td>\n",
       "      <td>[FRO40251]</td>\n",
       "      <td>1.0</td>\n",
       "    </tr>\n",
       "    <tr>\n",
       "      <th>668</th>\n",
       "      <td>[FRO47796, GRO56726, FRO40251]</td>\n",
       "      <td>[GRO73461]</td>\n",
       "      <td>1.0</td>\n",
       "    </tr>\n",
       "    <tr>\n",
       "      <th>220</th>\n",
       "      <td>[DAI69156, ELE58409]</td>\n",
       "      <td>[ELE17451]</td>\n",
       "      <td>1.0</td>\n",
       "    </tr>\n",
       "    <tr>\n",
       "      <th>1547</th>\n",
       "      <td>[FRO41069, ELE59028, SNA93860]</td>\n",
       "      <td>[DAI62779]</td>\n",
       "      <td>1.0</td>\n",
       "    </tr>\n",
       "    <tr>\n",
       "      <th>667</th>\n",
       "      <td>[FRO47796, GRO56726, GRO73461]</td>\n",
       "      <td>[FRO40251]</td>\n",
       "      <td>1.0</td>\n",
       "    </tr>\n",
       "  </tbody>\n",
       "</table>\n",
       "</div>"
      ],
      "text/plain": [
       "                                           LHS         RHS  Confidence\n",
       "503   [GRO56726, GRO73461, SNA55952, DAI62779]  [FRO40251]         1.0\n",
       "668             [FRO47796, GRO56726, FRO40251]  [GRO73461]         1.0\n",
       "220                       [DAI69156, ELE58409]  [ELE17451]         1.0\n",
       "1547            [FRO41069, ELE59028, SNA93860]  [DAI62779]         1.0\n",
       "667             [FRO47796, GRO56726, GRO73461]  [FRO40251]         1.0"
      ]
     },
     "execution_count": 718,
     "metadata": {},
     "output_type": "execute_result"
    }
   ],
   "source": [
    "df = df.drop(1171)\n",
    "df = df.drop(983)\n",
    "df.head(5)"
   ]
  },
  {
   "cell_type": "code",
   "execution_count": null,
   "metadata": {},
   "outputs": [],
   "source": []
  }
 ],
 "metadata": {
  "kernelspec": {
   "display_name": "Python 3",
   "language": "python",
   "name": "python3"
  },
  "language_info": {
   "codemirror_mode": {
    "name": "ipython",
    "version": 3
   },
   "file_extension": ".py",
   "mimetype": "text/x-python",
   "name": "python",
   "nbconvert_exporter": "python",
   "pygments_lexer": "ipython3",
   "version": "3.7.6"
  }
 },
 "nbformat": 4,
 "nbformat_minor": 4
}
